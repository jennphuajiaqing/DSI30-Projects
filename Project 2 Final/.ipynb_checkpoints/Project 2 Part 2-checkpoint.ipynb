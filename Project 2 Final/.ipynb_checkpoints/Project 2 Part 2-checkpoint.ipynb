{
 "cells": [
  {
   "cell_type": "markdown",
   "id": "975638bf-91af-4794-b5c8-e653d5d96be8",
   "metadata": {},
   "source": [
    "## Pre-processing"
   ]
  },
  {
   "cell_type": "markdown",
   "id": "3d871819-b000-436e-8aeb-e226e6641073",
   "metadata": {},
   "source": [
    "## Modeling"
   ]
  },
  {
   "cell_type": "markdown",
   "id": "107bc345-b28c-4992-b33e-4a73a698eb00",
   "metadata": {},
   "source": [
    "## Conclusion (Summary Table)"
   ]
  },
  {
   "cell_type": "markdown",
   "id": "b5d75e5c-654f-44a1-9a15-a5bbccf51d3a",
   "metadata": {},
   "source": [
    "## Business Recommendations"
   ]
  },
  {
   "cell_type": "markdown",
   "id": "55e85a45-0623-43eb-ad41-82e6cc365652",
   "metadata": {},
   "source": [
    "So moving on to the reasons why knowing the top predictors would give our company a unique selling point. Firstly, we should always understand our buyers. What features must they have in their house. What phase of life are they in. Are they building a family. So once we know what they want, we would be able to shortlist houses that answers their needs. This way, we would be making the whole process of buying a house, enjoyable and fast for our buyers.\n",
    "\n",
    "Secondly, once we know what features buyers are looking for and the features that important, we can further upsell the property. We would be able to catch our buyers’ attention, explaining to them how can this house be their dream house. Also, when trying to seal the deal we can be more persuasive.\n",
    "\n",
    "Lastly, as property agents, you handle buyers. But you also handle sellers. Knowing the features of the house would be able to aid us in coming up with a reasonable price range so that we can help our sellers sell their houses as fast as possible. We would also be able to manage their expectations. Who doesn’t love a good and reasonable sales price.\n",
    "\n",
    "Our aim is to satisfy the needs of all customers."
   ]
  },
  {
   "cell_type": "code",
   "execution_count": null,
   "id": "2df89af2-a85a-437f-9ac8-a3212ef2669f",
   "metadata": {},
   "outputs": [],
   "source": []
  }
 ],
 "metadata": {
  "kernelspec": {
   "display_name": "Python 3 (ipykernel)",
   "language": "python",
   "name": "python3"
  },
  "language_info": {
   "codemirror_mode": {
    "name": "ipython",
    "version": 3
   },
   "file_extension": ".py",
   "mimetype": "text/x-python",
   "name": "python",
   "nbconvert_exporter": "python",
   "pygments_lexer": "ipython3",
   "version": "3.9.12"
  }
 },
 "nbformat": 4,
 "nbformat_minor": 5
}
