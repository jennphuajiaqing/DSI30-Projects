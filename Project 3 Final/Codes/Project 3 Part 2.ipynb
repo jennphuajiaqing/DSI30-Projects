{
 "cells": [
  {
   "cell_type": "markdown",
   "id": "a126db18-92a8-4079-a6f3-5abf971c5260",
   "metadata": {},
   "source": [
    "<img src=\"http://imgur.com/1ZcRyrc.png\" style=\"float: left; margin: 20px; height: 55px\">\n",
    "\n",
    "# Project 3 - Web APIs & NLP (Part 2)"
   ]
  },
  {
   "cell_type": "markdown",
   "id": "230186d6-d918-417c-9630-1e14a0e335e6",
   "metadata": {},
   "source": [
    "### Contents:\n",
    "- Data Cleaning\n",
    "- Pre-Processing & EDA\n",
    "- Sentiment Analysis"
   ]
  },
  {
   "cell_type": "code",
   "execution_count": 1,
   "id": "c82b710c-5a81-4ee8-beec-1b46a9f1d0fd",
   "metadata": {},
   "outputs": [],
   "source": [
    "#Importing libraries\n",
    "import pandas as pd\n",
    "import numpy as np\n",
    "import matplotlib.pyplot as plt\n",
    "\n",
    "#Preprocessing\n",
    "import re\n",
    "from bs4 import BeautifulSoup\n",
    "from collections import Counter\n",
    "from wordcloud import WordCloud\n",
    "from nltk.corpus import stopwords\n",
    "from nltk.stem import WordNetLemmatizer\n",
    "from nltk.tokenize import RegexpTokenizer\n",
    "from sklearn.feature_extraction.text import CountVectorizer\n",
    "\n",
    "\n",
    "#Sentiment analysis\n",
    "from nltk.sentiment.vader import SentimentIntensityAnalyzer"
   ]
  },
  {
   "cell_type": "code",
   "execution_count": 2,
   "id": "ae79b79c-93e4-4831-93fa-b6275af68606",
   "metadata": {},
   "outputs": [],
   "source": [
    "#Importing the 'yoga_nlp.csv' and 'pilates_nlp.csv' datasets to clean and understand them\n",
    "\n",
    "yoga = pd.read_csv('./yoga_nlp.csv')\n",
    "pilates = pd.read_csv('./pilates_nlp.csv')"
   ]
  },
  {
   "cell_type": "code",
   "execution_count": 3,
   "id": "24b3dddf-51f3-4f68-9dcb-b64bb8b67517",
   "metadata": {},
   "outputs": [
    {
     "data": {
      "text/html": [
       "<div>\n",
       "<style scoped>\n",
       "    .dataframe tbody tr th:only-of-type {\n",
       "        vertical-align: middle;\n",
       "    }\n",
       "\n",
       "    .dataframe tbody tr th {\n",
       "        vertical-align: top;\n",
       "    }\n",
       "\n",
       "    .dataframe thead th {\n",
       "        text-align: right;\n",
       "    }\n",
       "</style>\n",
       "<table border=\"1\" class=\"dataframe\">\n",
       "  <thead>\n",
       "    <tr style=\"text-align: right;\">\n",
       "      <th></th>\n",
       "      <th>subreddit</th>\n",
       "      <th>content</th>\n",
       "    </tr>\n",
       "  </thead>\n",
       "  <tbody>\n",
       "    <tr>\n",
       "      <th>0</th>\n",
       "      <td>yoga</td>\n",
       "      <td>Ankle Swelling From Yoga? I recently signed up...</td>\n",
       "    </tr>\n",
       "    <tr>\n",
       "      <th>1</th>\n",
       "      <td>yoga</td>\n",
       "      <td>Are cork yoga mats better than a regular mat? ...</td>\n",
       "    </tr>\n",
       "    <tr>\n",
       "      <th>2</th>\n",
       "      <td>yoga</td>\n",
       "      <td>Found My New Yoga Studio I just moved to Hende...</td>\n",
       "    </tr>\n",
       "    <tr>\n",
       "      <th>3</th>\n",
       "      <td>yoga</td>\n",
       "      <td>We have started going to classes! I’m sure you...</td>\n",
       "    </tr>\n",
       "    <tr>\n",
       "      <th>4</th>\n",
       "      <td>yoga</td>\n",
       "      <td>How long did it take you to get good at yoga? ...</td>\n",
       "    </tr>\n",
       "  </tbody>\n",
       "</table>\n",
       "</div>"
      ],
      "text/plain": [
       "  subreddit                                            content\n",
       "0      yoga  Ankle Swelling From Yoga? I recently signed up...\n",
       "1      yoga  Are cork yoga mats better than a regular mat? ...\n",
       "2      yoga  Found My New Yoga Studio I just moved to Hende...\n",
       "3      yoga  We have started going to classes! I’m sure you...\n",
       "4      yoga  How long did it take you to get good at yoga? ..."
      ]
     },
     "execution_count": 3,
     "metadata": {},
     "output_type": "execute_result"
    }
   ],
   "source": [
    "#Combining 'title' and 'selftext' into 1 column for cleaning for yoga\n",
    "#Dropping 'title' and 'selftext' as it is a duplicate of the 'content' column for yoga\n",
    "\n",
    "yoga['content']=yoga['title'] +' '+ yoga['selftext']\n",
    "yoga.drop(['title', 'selftext'], axis=1, inplace=True)\n",
    "yoga.head()"
   ]
  },
  {
   "cell_type": "code",
   "execution_count": 4,
   "id": "fd106692-1d77-43eb-b112-e78d0c09a57f",
   "metadata": {},
   "outputs": [
    {
     "data": {
      "text/html": [
       "<div>\n",
       "<style scoped>\n",
       "    .dataframe tbody tr th:only-of-type {\n",
       "        vertical-align: middle;\n",
       "    }\n",
       "\n",
       "    .dataframe tbody tr th {\n",
       "        vertical-align: top;\n",
       "    }\n",
       "\n",
       "    .dataframe thead th {\n",
       "        text-align: right;\n",
       "    }\n",
       "</style>\n",
       "<table border=\"1\" class=\"dataframe\">\n",
       "  <thead>\n",
       "    <tr style=\"text-align: right;\">\n",
       "      <th></th>\n",
       "      <th>subreddit</th>\n",
       "      <th>content</th>\n",
       "    </tr>\n",
       "  </thead>\n",
       "  <tbody>\n",
       "    <tr>\n",
       "      <th>0</th>\n",
       "      <td>pilates</td>\n",
       "      <td>Thoughts on BB IQ reformer? Does anybody have ...</td>\n",
       "    </tr>\n",
       "    <tr>\n",
       "      <th>1</th>\n",
       "      <td>pilates</td>\n",
       "      <td>Hundred - I’m doing it wrong I don’t feel anyt...</td>\n",
       "    </tr>\n",
       "    <tr>\n",
       "      <th>2</th>\n",
       "      <td>pilates</td>\n",
       "      <td>Mini pro or reformer Hi there!\\n\\nI am new to ...</td>\n",
       "    </tr>\n",
       "    <tr>\n",
       "      <th>3</th>\n",
       "      <td>pilates</td>\n",
       "      <td>Should I tip my instructor for private session...</td>\n",
       "    </tr>\n",
       "    <tr>\n",
       "      <th>4</th>\n",
       "      <td>pilates</td>\n",
       "      <td>Looking to Purchase Reformer - Seeking Advice/...</td>\n",
       "    </tr>\n",
       "  </tbody>\n",
       "</table>\n",
       "</div>"
      ],
      "text/plain": [
       "  subreddit                                            content\n",
       "0   pilates  Thoughts on BB IQ reformer? Does anybody have ...\n",
       "1   pilates  Hundred - I’m doing it wrong I don’t feel anyt...\n",
       "2   pilates  Mini pro or reformer Hi there!\\n\\nI am new to ...\n",
       "3   pilates  Should I tip my instructor for private session...\n",
       "4   pilates  Looking to Purchase Reformer - Seeking Advice/..."
      ]
     },
     "execution_count": 4,
     "metadata": {},
     "output_type": "execute_result"
    }
   ],
   "source": [
    "#Combining 'title' and 'selftext' into 1 column for cleaning for pilates\n",
    "#Dropping 'title' and 'selftext' as it is a duplicate of the 'content' column for pilates\n",
    "\n",
    "pilates['content']=pilates['title'] +' '+ pilates['selftext']\n",
    "pilates.drop(['title', 'selftext'], axis=1, inplace=True)\n",
    "pilates.head()"
   ]
  },
  {
   "cell_type": "code",
   "execution_count": 5,
   "id": "3b3f6125-8f21-4ca9-8016-7f68ba20edf7",
   "metadata": {},
   "outputs": [
    {
     "name": "stdout",
     "output_type": "stream",
     "text": [
      "<class 'pandas.core.frame.DataFrame'>\n",
      "RangeIndex: 1000 entries, 0 to 999\n",
      "Data columns (total 2 columns):\n",
      " #   Column     Non-Null Count  Dtype \n",
      "---  ------     --------------  ----- \n",
      " 0   subreddit  1000 non-null   object\n",
      " 1   content    993 non-null    object\n",
      "dtypes: object(2)\n",
      "memory usage: 15.8+ KB\n",
      "None\n",
      "subreddit    0\n",
      "content      7\n",
      "dtype: int64\n"
     ]
    }
   ],
   "source": [
    "#Checking for missing values for Yoga\n",
    "\n",
    "print(yoga.info())\n",
    "print(yoga.isnull().sum())"
   ]
  },
  {
   "cell_type": "code",
   "execution_count": 6,
   "id": "1094d62a-c982-4aa1-a464-e2f894a6db2f",
   "metadata": {},
   "outputs": [
    {
     "name": "stdout",
     "output_type": "stream",
     "text": [
      "<class 'pandas.core.frame.DataFrame'>\n",
      "RangeIndex: 1000 entries, 0 to 999\n",
      "Data columns (total 2 columns):\n",
      " #   Column     Non-Null Count  Dtype \n",
      "---  ------     --------------  ----- \n",
      " 0   subreddit  1000 non-null   object\n",
      " 1   content    998 non-null    object\n",
      "dtypes: object(2)\n",
      "memory usage: 15.8+ KB\n",
      "None\n",
      "subreddit    0\n",
      "content      2\n",
      "dtype: int64\n"
     ]
    }
   ],
   "source": [
    "#Checking for missing values for Pilates\n",
    "\n",
    "print(pilates.info())\n",
    "print(pilates.isnull().sum())"
   ]
  },
  {
   "cell_type": "code",
   "execution_count": 7,
   "id": "affd8bb0-5be7-416d-97c9-8b8a555b2836",
   "metadata": {},
   "outputs": [
    {
     "data": {
      "text/html": [
       "<div>\n",
       "<style scoped>\n",
       "    .dataframe tbody tr th:only-of-type {\n",
       "        vertical-align: middle;\n",
       "    }\n",
       "\n",
       "    .dataframe tbody tr th {\n",
       "        vertical-align: top;\n",
       "    }\n",
       "\n",
       "    .dataframe thead th {\n",
       "        text-align: right;\n",
       "    }\n",
       "</style>\n",
       "<table border=\"1\" class=\"dataframe\">\n",
       "  <thead>\n",
       "    <tr style=\"text-align: right;\">\n",
       "      <th></th>\n",
       "      <th>subreddit</th>\n",
       "      <th>content</th>\n",
       "    </tr>\n",
       "  </thead>\n",
       "  <tbody>\n",
       "    <tr>\n",
       "      <th>17</th>\n",
       "      <td>yoga</td>\n",
       "      <td>NaN</td>\n",
       "    </tr>\n",
       "    <tr>\n",
       "      <th>145</th>\n",
       "      <td>yoga</td>\n",
       "      <td>NaN</td>\n",
       "    </tr>\n",
       "    <tr>\n",
       "      <th>146</th>\n",
       "      <td>yoga</td>\n",
       "      <td>NaN</td>\n",
       "    </tr>\n",
       "    <tr>\n",
       "      <th>898</th>\n",
       "      <td>yoga</td>\n",
       "      <td>NaN</td>\n",
       "    </tr>\n",
       "    <tr>\n",
       "      <th>900</th>\n",
       "      <td>yoga</td>\n",
       "      <td>NaN</td>\n",
       "    </tr>\n",
       "    <tr>\n",
       "      <th>901</th>\n",
       "      <td>yoga</td>\n",
       "      <td>NaN</td>\n",
       "    </tr>\n",
       "    <tr>\n",
       "      <th>946</th>\n",
       "      <td>yoga</td>\n",
       "      <td>NaN</td>\n",
       "    </tr>\n",
       "  </tbody>\n",
       "</table>\n",
       "</div>"
      ],
      "text/plain": [
       "    subreddit content\n",
       "17       yoga     NaN\n",
       "145      yoga     NaN\n",
       "146      yoga     NaN\n",
       "898      yoga     NaN\n",
       "900      yoga     NaN\n",
       "901      yoga     NaN\n",
       "946      yoga     NaN"
      ]
     },
     "execution_count": 7,
     "metadata": {},
     "output_type": "execute_result"
    }
   ],
   "source": [
    "#Will be dropping these rows with missing values in Yoga as they are not useful to us\n",
    "\n",
    "yoga[yoga.content.isnull()==True]"
   ]
  },
  {
   "cell_type": "code",
   "execution_count": 8,
   "id": "2bbbbe74-8298-4332-ab3d-0d26731ea056",
   "metadata": {},
   "outputs": [
    {
     "name": "stdout",
     "output_type": "stream",
     "text": [
      "subreddit    0\n",
      "content      0\n",
      "dtype: int64\n",
      "(993, 2)\n"
     ]
    }
   ],
   "source": [
    "#Checking that there is no missing value left in Yoga\n",
    "\n",
    "yoga.dropna(axis=0, inplace=True)\n",
    "print(yoga.isnull().sum())\n",
    "print(yoga.shape)"
   ]
  },
  {
   "cell_type": "code",
   "execution_count": 9,
   "id": "c25294f5-15e8-4d7e-a086-ade0e02c2306",
   "metadata": {},
   "outputs": [
    {
     "data": {
      "text/html": [
       "<div>\n",
       "<style scoped>\n",
       "    .dataframe tbody tr th:only-of-type {\n",
       "        vertical-align: middle;\n",
       "    }\n",
       "\n",
       "    .dataframe tbody tr th {\n",
       "        vertical-align: top;\n",
       "    }\n",
       "\n",
       "    .dataframe thead th {\n",
       "        text-align: right;\n",
       "    }\n",
       "</style>\n",
       "<table border=\"1\" class=\"dataframe\">\n",
       "  <thead>\n",
       "    <tr style=\"text-align: right;\">\n",
       "      <th></th>\n",
       "      <th>subreddit</th>\n",
       "      <th>content</th>\n",
       "    </tr>\n",
       "  </thead>\n",
       "  <tbody>\n",
       "    <tr>\n",
       "      <th>521</th>\n",
       "      <td>pilates</td>\n",
       "      <td>NaN</td>\n",
       "    </tr>\n",
       "    <tr>\n",
       "      <th>523</th>\n",
       "      <td>pilates</td>\n",
       "      <td>NaN</td>\n",
       "    </tr>\n",
       "  </tbody>\n",
       "</table>\n",
       "</div>"
      ],
      "text/plain": [
       "    subreddit content\n",
       "521   pilates     NaN\n",
       "523   pilates     NaN"
      ]
     },
     "execution_count": 9,
     "metadata": {},
     "output_type": "execute_result"
    }
   ],
   "source": [
    "#Will be dropping these rows with missing values in Pilates as they are not useful to us\n",
    "\n",
    "pilates[pilates.content.isnull()==True]"
   ]
  },
  {
   "cell_type": "code",
   "execution_count": 10,
   "id": "14e719f4-1162-4dd7-abfa-c1fc7214de6a",
   "metadata": {},
   "outputs": [
    {
     "name": "stdout",
     "output_type": "stream",
     "text": [
      "subreddit    0\n",
      "content      0\n",
      "dtype: int64\n",
      "(998, 2)\n"
     ]
    }
   ],
   "source": [
    "#Checking that there is no missing value left in Pilates\n",
    "\n",
    "pilates.dropna(axis=0, inplace=True)\n",
    "print(pilates.isnull().sum())\n",
    "print(pilates.shape)"
   ]
  },
  {
   "cell_type": "code",
   "execution_count": 11,
   "id": "2aebfe52-4db6-4034-a2c7-994dc1eedd7b",
   "metadata": {},
   "outputs": [
    {
     "data": {
      "text/html": [
       "<div>\n",
       "<style scoped>\n",
       "    .dataframe tbody tr th:only-of-type {\n",
       "        vertical-align: middle;\n",
       "    }\n",
       "\n",
       "    .dataframe tbody tr th {\n",
       "        vertical-align: top;\n",
       "    }\n",
       "\n",
       "    .dataframe thead th {\n",
       "        text-align: right;\n",
       "    }\n",
       "</style>\n",
       "<table border=\"1\" class=\"dataframe\">\n",
       "  <thead>\n",
       "    <tr style=\"text-align: right;\">\n",
       "      <th></th>\n",
       "      <th>subreddit</th>\n",
       "      <th>content</th>\n",
       "    </tr>\n",
       "  </thead>\n",
       "  <tbody>\n",
       "    <tr>\n",
       "      <th>336</th>\n",
       "      <td>yoga</td>\n",
       "      <td>How do I get back into yoga without feeling so...</td>\n",
       "    </tr>\n",
       "    <tr>\n",
       "      <th>350</th>\n",
       "      <td>yoga</td>\n",
       "      <td>Yoga History and Philosophy Discussion Thread ...</td>\n",
       "    </tr>\n",
       "    <tr>\n",
       "      <th>402</th>\n",
       "      <td>yoga</td>\n",
       "      <td>Asana Questions Thread Ask questions/discuss a...</td>\n",
       "    </tr>\n",
       "    <tr>\n",
       "      <th>641</th>\n",
       "      <td>yoga</td>\n",
       "      <td>Asana Questions Thread Ask questions/discuss a...</td>\n",
       "    </tr>\n",
       "    <tr>\n",
       "      <th>797</th>\n",
       "      <td>yoga</td>\n",
       "      <td>Yoga History and Philosophy Discussion Thread ...</td>\n",
       "    </tr>\n",
       "    <tr>\n",
       "      <th>854</th>\n",
       "      <td>yoga</td>\n",
       "      <td>Asana Questions Thread Ask questions/discuss a...</td>\n",
       "    </tr>\n",
       "    <tr>\n",
       "      <th>878</th>\n",
       "      <td>yoga</td>\n",
       "      <td>I just wrapped up my first month back in the y...</td>\n",
       "    </tr>\n",
       "  </tbody>\n",
       "</table>\n",
       "</div>"
      ],
      "text/plain": [
       "    subreddit                                            content\n",
       "336      yoga  How do I get back into yoga without feeling so...\n",
       "350      yoga  Yoga History and Philosophy Discussion Thread ...\n",
       "402      yoga  Asana Questions Thread Ask questions/discuss a...\n",
       "641      yoga  Asana Questions Thread Ask questions/discuss a...\n",
       "797      yoga  Yoga History and Philosophy Discussion Thread ...\n",
       "854      yoga  Asana Questions Thread Ask questions/discuss a...\n",
       "878      yoga  I just wrapped up my first month back in the y..."
      ]
     },
     "execution_count": 11,
     "metadata": {},
     "output_type": "execute_result"
    }
   ],
   "source": [
    "#Checking that there is no duplicated rows in Yoga\n",
    "#Will be dropping these rows\n",
    "\n",
    "yoga_dup = yoga.duplicated()==True\n",
    "yoga[yoga_dup]"
   ]
  },
  {
   "cell_type": "code",
   "execution_count": 12,
   "id": "4d8e7758-8641-4f8d-a123-d6e7bae3b541",
   "metadata": {},
   "outputs": [
    {
     "data": {
      "text/html": [
       "<div>\n",
       "<style scoped>\n",
       "    .dataframe tbody tr th:only-of-type {\n",
       "        vertical-align: middle;\n",
       "    }\n",
       "\n",
       "    .dataframe tbody tr th {\n",
       "        vertical-align: top;\n",
       "    }\n",
       "\n",
       "    .dataframe thead th {\n",
       "        text-align: right;\n",
       "    }\n",
       "</style>\n",
       "<table border=\"1\" class=\"dataframe\">\n",
       "  <thead>\n",
       "    <tr style=\"text-align: right;\">\n",
       "      <th></th>\n",
       "      <th>subreddit</th>\n",
       "      <th>content</th>\n",
       "    </tr>\n",
       "  </thead>\n",
       "  <tbody>\n",
       "    <tr>\n",
       "      <th>98</th>\n",
       "      <td>pilates</td>\n",
       "      <td>North Dallas studios I was paying for private ...</td>\n",
       "    </tr>\n",
       "    <tr>\n",
       "      <th>99</th>\n",
       "      <td>pilates</td>\n",
       "      <td>North Dallas studios I was paying for private ...</td>\n",
       "    </tr>\n",
       "  </tbody>\n",
       "</table>\n",
       "</div>"
      ],
      "text/plain": [
       "   subreddit                                            content\n",
       "98   pilates  North Dallas studios I was paying for private ...\n",
       "99   pilates  North Dallas studios I was paying for private ..."
      ]
     },
     "execution_count": 12,
     "metadata": {},
     "output_type": "execute_result"
    }
   ],
   "source": [
    "#Checking that there is no duplicated rows in Pilates\n",
    "#Will be dropping these rows\n",
    "\n",
    "pilates_dup = pilates.duplicated()==True\n",
    "pilates[pilates_dup]"
   ]
  },
  {
   "cell_type": "code",
   "execution_count": 13,
   "id": "4fc559d9-d109-4ecf-bf32-c6d592c1ebc7",
   "metadata": {},
   "outputs": [
    {
     "name": "stdout",
     "output_type": "stream",
     "text": [
      "(986, 2)\n"
     ]
    }
   ],
   "source": [
    "yoga.drop_duplicates(keep='first', inplace=True)\n",
    "print(yoga.shape)"
   ]
  },
  {
   "cell_type": "code",
   "execution_count": 14,
   "id": "87402c94-2144-4c4a-9f58-d28f9dcb6359",
   "metadata": {},
   "outputs": [
    {
     "name": "stdout",
     "output_type": "stream",
     "text": [
      "(996, 2)\n"
     ]
    }
   ],
   "source": [
    "pilates.drop_duplicates(keep='first', inplace=True)\n",
    "print(pilates.shape)"
   ]
  },
  {
   "cell_type": "markdown",
   "id": "0d0c77ce-b506-4dc4-92a9-a3c0089dddfd",
   "metadata": {},
   "source": [
    "As per above findings, we have identified missing values and duplicates.\n",
    "- For yoga\n",
    "  - Dropped 7 posts with missing values\n",
    "  - Dropped 7 post of duplicates\n",
    "  - Left with 986 posts\n",
    "- For pilates\n",
    "  - Dropped 2 posts of missing values\n",
    "  - Dropped 2 posts of duplicates\n",
    "  - Left with 996 posts"
   ]
  },
  {
   "cell_type": "markdown",
   "id": "63fac3d2-060d-482d-97c0-a0d92187c66b",
   "metadata": {},
   "source": [
    "Double checking that there is no empty (spacings), 'deleted' or 'removed' contents."
   ]
  },
  {
   "cell_type": "code",
   "execution_count": 15,
   "id": "f84e1f1e-d258-40bd-a61f-32c9accb6432",
   "metadata": {},
   "outputs": [
    {
     "data": {
      "text/html": [
       "<div>\n",
       "<style scoped>\n",
       "    .dataframe tbody tr th:only-of-type {\n",
       "        vertical-align: middle;\n",
       "    }\n",
       "\n",
       "    .dataframe tbody tr th {\n",
       "        vertical-align: top;\n",
       "    }\n",
       "\n",
       "    .dataframe thead th {\n",
       "        text-align: right;\n",
       "    }\n",
       "</style>\n",
       "<table border=\"1\" class=\"dataframe\">\n",
       "  <thead>\n",
       "    <tr style=\"text-align: right;\">\n",
       "      <th></th>\n",
       "      <th>subreddit</th>\n",
       "      <th>content</th>\n",
       "    </tr>\n",
       "  </thead>\n",
       "  <tbody>\n",
       "  </tbody>\n",
       "</table>\n",
       "</div>"
      ],
      "text/plain": [
       "Empty DataFrame\n",
       "Columns: [subreddit, content]\n",
       "Index: []"
      ]
     },
     "execution_count": 15,
     "metadata": {},
     "output_type": "execute_result"
    }
   ],
   "source": [
    "yoga[yoga['content']=='']"
   ]
  },
  {
   "cell_type": "code",
   "execution_count": 16,
   "id": "a7f5d153-61af-4e4e-8672-de8c0ebb8c0c",
   "metadata": {},
   "outputs": [
    {
     "data": {
      "text/html": [
       "<div>\n",
       "<style scoped>\n",
       "    .dataframe tbody tr th:only-of-type {\n",
       "        vertical-align: middle;\n",
       "    }\n",
       "\n",
       "    .dataframe tbody tr th {\n",
       "        vertical-align: top;\n",
       "    }\n",
       "\n",
       "    .dataframe thead th {\n",
       "        text-align: right;\n",
       "    }\n",
       "</style>\n",
       "<table border=\"1\" class=\"dataframe\">\n",
       "  <thead>\n",
       "    <tr style=\"text-align: right;\">\n",
       "      <th></th>\n",
       "      <th>subreddit</th>\n",
       "      <th>content</th>\n",
       "    </tr>\n",
       "  </thead>\n",
       "  <tbody>\n",
       "  </tbody>\n",
       "</table>\n",
       "</div>"
      ],
      "text/plain": [
       "Empty DataFrame\n",
       "Columns: [subreddit, content]\n",
       "Index: []"
      ]
     },
     "execution_count": 16,
     "metadata": {},
     "output_type": "execute_result"
    }
   ],
   "source": [
    "yoga[yoga['content']=='[deleted]']"
   ]
  },
  {
   "cell_type": "code",
   "execution_count": 17,
   "id": "a5bef0ef-6b0a-47fa-aac0-8c66c91c5675",
   "metadata": {},
   "outputs": [
    {
     "data": {
      "text/html": [
       "<div>\n",
       "<style scoped>\n",
       "    .dataframe tbody tr th:only-of-type {\n",
       "        vertical-align: middle;\n",
       "    }\n",
       "\n",
       "    .dataframe tbody tr th {\n",
       "        vertical-align: top;\n",
       "    }\n",
       "\n",
       "    .dataframe thead th {\n",
       "        text-align: right;\n",
       "    }\n",
       "</style>\n",
       "<table border=\"1\" class=\"dataframe\">\n",
       "  <thead>\n",
       "    <tr style=\"text-align: right;\">\n",
       "      <th></th>\n",
       "      <th>subreddit</th>\n",
       "      <th>content</th>\n",
       "    </tr>\n",
       "  </thead>\n",
       "  <tbody>\n",
       "  </tbody>\n",
       "</table>\n",
       "</div>"
      ],
      "text/plain": [
       "Empty DataFrame\n",
       "Columns: [subreddit, content]\n",
       "Index: []"
      ]
     },
     "execution_count": 17,
     "metadata": {},
     "output_type": "execute_result"
    }
   ],
   "source": [
    "yoga[yoga['content']=='[removed]']"
   ]
  },
  {
   "cell_type": "code",
   "execution_count": 18,
   "id": "61184122-1f5a-4ec2-9372-54e15423cc66",
   "metadata": {},
   "outputs": [
    {
     "data": {
      "text/html": [
       "<div>\n",
       "<style scoped>\n",
       "    .dataframe tbody tr th:only-of-type {\n",
       "        vertical-align: middle;\n",
       "    }\n",
       "\n",
       "    .dataframe tbody tr th {\n",
       "        vertical-align: top;\n",
       "    }\n",
       "\n",
       "    .dataframe thead th {\n",
       "        text-align: right;\n",
       "    }\n",
       "</style>\n",
       "<table border=\"1\" class=\"dataframe\">\n",
       "  <thead>\n",
       "    <tr style=\"text-align: right;\">\n",
       "      <th></th>\n",
       "      <th>subreddit</th>\n",
       "      <th>content</th>\n",
       "    </tr>\n",
       "  </thead>\n",
       "  <tbody>\n",
       "  </tbody>\n",
       "</table>\n",
       "</div>"
      ],
      "text/plain": [
       "Empty DataFrame\n",
       "Columns: [subreddit, content]\n",
       "Index: []"
      ]
     },
     "execution_count": 18,
     "metadata": {},
     "output_type": "execute_result"
    }
   ],
   "source": [
    "pilates[pilates['content']=='']"
   ]
  },
  {
   "cell_type": "code",
   "execution_count": 19,
   "id": "af708dc3-1d89-4b85-a885-ca17c63915a7",
   "metadata": {},
   "outputs": [
    {
     "data": {
      "text/html": [
       "<div>\n",
       "<style scoped>\n",
       "    .dataframe tbody tr th:only-of-type {\n",
       "        vertical-align: middle;\n",
       "    }\n",
       "\n",
       "    .dataframe tbody tr th {\n",
       "        vertical-align: top;\n",
       "    }\n",
       "\n",
       "    .dataframe thead th {\n",
       "        text-align: right;\n",
       "    }\n",
       "</style>\n",
       "<table border=\"1\" class=\"dataframe\">\n",
       "  <thead>\n",
       "    <tr style=\"text-align: right;\">\n",
       "      <th></th>\n",
       "      <th>subreddit</th>\n",
       "      <th>content</th>\n",
       "    </tr>\n",
       "  </thead>\n",
       "  <tbody>\n",
       "  </tbody>\n",
       "</table>\n",
       "</div>"
      ],
      "text/plain": [
       "Empty DataFrame\n",
       "Columns: [subreddit, content]\n",
       "Index: []"
      ]
     },
     "execution_count": 19,
     "metadata": {},
     "output_type": "execute_result"
    }
   ],
   "source": [
    "pilates[pilates['content']=='[deleted]']"
   ]
  },
  {
   "cell_type": "code",
   "execution_count": 20,
   "id": "1093b74e-f026-42af-ba30-fc6bb2c1b74b",
   "metadata": {},
   "outputs": [
    {
     "data": {
      "text/html": [
       "<div>\n",
       "<style scoped>\n",
       "    .dataframe tbody tr th:only-of-type {\n",
       "        vertical-align: middle;\n",
       "    }\n",
       "\n",
       "    .dataframe tbody tr th {\n",
       "        vertical-align: top;\n",
       "    }\n",
       "\n",
       "    .dataframe thead th {\n",
       "        text-align: right;\n",
       "    }\n",
       "</style>\n",
       "<table border=\"1\" class=\"dataframe\">\n",
       "  <thead>\n",
       "    <tr style=\"text-align: right;\">\n",
       "      <th></th>\n",
       "      <th>subreddit</th>\n",
       "      <th>content</th>\n",
       "    </tr>\n",
       "  </thead>\n",
       "  <tbody>\n",
       "  </tbody>\n",
       "</table>\n",
       "</div>"
      ],
      "text/plain": [
       "Empty DataFrame\n",
       "Columns: [subreddit, content]\n",
       "Index: []"
      ]
     },
     "execution_count": 20,
     "metadata": {},
     "output_type": "execute_result"
    }
   ],
   "source": [
    "pilates[pilates['content']=='[removed]']"
   ]
  },
  {
   "cell_type": "code",
   "execution_count": 21,
   "id": "ef07e4ce-04f8-4f6f-a243-d001cc05253f",
   "metadata": {},
   "outputs": [
    {
     "data": {
      "text/html": [
       "<div>\n",
       "<style scoped>\n",
       "    .dataframe tbody tr th:only-of-type {\n",
       "        vertical-align: middle;\n",
       "    }\n",
       "\n",
       "    .dataframe tbody tr th {\n",
       "        vertical-align: top;\n",
       "    }\n",
       "\n",
       "    .dataframe thead th {\n",
       "        text-align: right;\n",
       "    }\n",
       "</style>\n",
       "<table border=\"1\" class=\"dataframe\">\n",
       "  <thead>\n",
       "    <tr style=\"text-align: right;\">\n",
       "      <th></th>\n",
       "      <th>subreddit</th>\n",
       "      <th>content</th>\n",
       "    </tr>\n",
       "  </thead>\n",
       "  <tbody>\n",
       "    <tr>\n",
       "      <th>count</th>\n",
       "      <td>986</td>\n",
       "      <td>986</td>\n",
       "    </tr>\n",
       "    <tr>\n",
       "      <th>unique</th>\n",
       "      <td>1</td>\n",
       "      <td>986</td>\n",
       "    </tr>\n",
       "    <tr>\n",
       "      <th>top</th>\n",
       "      <td>yoga</td>\n",
       "      <td>Ankle Swelling From Yoga? I recently signed up...</td>\n",
       "    </tr>\n",
       "    <tr>\n",
       "      <th>freq</th>\n",
       "      <td>986</td>\n",
       "      <td>1</td>\n",
       "    </tr>\n",
       "  </tbody>\n",
       "</table>\n",
       "</div>"
      ],
      "text/plain": [
       "       subreddit                                            content\n",
       "count        986                                                986\n",
       "unique         1                                                986\n",
       "top         yoga  Ankle Swelling From Yoga? I recently signed up...\n",
       "freq         986                                                  1"
      ]
     },
     "execution_count": 21,
     "metadata": {},
     "output_type": "execute_result"
    }
   ],
   "source": [
    "yoga.describe(include='object')"
   ]
  },
  {
   "cell_type": "code",
   "execution_count": 22,
   "id": "6a8af446-ca1e-4c10-9796-e8c474506f4a",
   "metadata": {},
   "outputs": [
    {
     "data": {
      "text/html": [
       "<div>\n",
       "<style scoped>\n",
       "    .dataframe tbody tr th:only-of-type {\n",
       "        vertical-align: middle;\n",
       "    }\n",
       "\n",
       "    .dataframe tbody tr th {\n",
       "        vertical-align: top;\n",
       "    }\n",
       "\n",
       "    .dataframe thead th {\n",
       "        text-align: right;\n",
       "    }\n",
       "</style>\n",
       "<table border=\"1\" class=\"dataframe\">\n",
       "  <thead>\n",
       "    <tr style=\"text-align: right;\">\n",
       "      <th></th>\n",
       "      <th>subreddit</th>\n",
       "      <th>content</th>\n",
       "    </tr>\n",
       "  </thead>\n",
       "  <tbody>\n",
       "    <tr>\n",
       "      <th>count</th>\n",
       "      <td>996</td>\n",
       "      <td>996</td>\n",
       "    </tr>\n",
       "    <tr>\n",
       "      <th>unique</th>\n",
       "      <td>1</td>\n",
       "      <td>996</td>\n",
       "    </tr>\n",
       "    <tr>\n",
       "      <th>top</th>\n",
       "      <td>pilates</td>\n",
       "      <td>Thoughts on BB IQ reformer? Does anybody have ...</td>\n",
       "    </tr>\n",
       "    <tr>\n",
       "      <th>freq</th>\n",
       "      <td>996</td>\n",
       "      <td>1</td>\n",
       "    </tr>\n",
       "  </tbody>\n",
       "</table>\n",
       "</div>"
      ],
      "text/plain": [
       "       subreddit                                            content\n",
       "count        996                                                996\n",
       "unique         1                                                996\n",
       "top      pilates  Thoughts on BB IQ reformer? Does anybody have ...\n",
       "freq         996                                                  1"
      ]
     },
     "execution_count": 22,
     "metadata": {},
     "output_type": "execute_result"
    }
   ],
   "source": [
    "pilates.describe(include='object')"
   ]
  },
  {
   "cell_type": "code",
   "execution_count": 23,
   "id": "943db418-dfc5-43b9-a730-d6fc91ed78db",
   "metadata": {},
   "outputs": [],
   "source": [
    "#Define function to clean content\n",
    "\n",
    "def clean_text(content):\n",
    "\n",
    "    # 1.Remove HTML.\n",
    "    content_text = BeautifulSoup(content).get_text()\n",
    "    \n",
    "    # 2.Remove non-letters (e.g.punctuations, emojis etc.).\n",
    "    letters_only = re.sub(\"[^a-zA-Z]\", \" \", content_text)\n",
    "    \n",
    "    # 3.Convert to lower case, split into individual words.\n",
    "    words = letters_only.lower().split()\n",
    "    \n",
    "    # 4.Convert the stop words to a set & include words I want to remove into the set\n",
    "    yoga_pilates = ['yoga', 'pilates', 'www', 'https', 'com', 'feel', 'feels', 'png' ]\n",
    "    stops = set(stopwords.words('english') + yoga_pilates)\n",
    "    \n",
    "    # 5.Remove stop words.\n",
    "    meaningful_words = [w for w in words if not w in stops]\n",
    "    \n",
    "    # 6.Join the words back into one string separated by space, \n",
    "    # and return the result.\n",
    "    return(\" \".join(meaningful_words))"
   ]
  },
  {
   "cell_type": "code",
   "execution_count": 24,
   "id": "9527db06-3b75-47d0-a907-af5821c0ef71",
   "metadata": {},
   "outputs": [
    {
     "name": "stderr",
     "output_type": "stream",
     "text": [
      "/Users/twangxh/opt/anaconda3/lib/python3.9/site-packages/bs4/__init__.py:435: MarkupResemblesLocatorWarning: The input looks more like a filename than markup. You may want to open this file and pass the filehandle into Beautiful Soup.\n",
      "  warnings.warn(\n"
     ]
    }
   ],
   "source": [
    "#Apply clean_text function to yoga and pilates\n",
    "\n",
    "yoga['content'] =yoga['content'].apply(clean_text)\n",
    "pilates['content'] =pilates['content'].apply(clean_text)"
   ]
  },
  {
   "cell_type": "code",
   "execution_count": 25,
   "id": "c589d4b6-cdcd-4cf5-974a-b7dce2be168f",
   "metadata": {},
   "outputs": [
    {
     "data": {
      "text/html": [
       "<div>\n",
       "<style scoped>\n",
       "    .dataframe tbody tr th:only-of-type {\n",
       "        vertical-align: middle;\n",
       "    }\n",
       "\n",
       "    .dataframe tbody tr th {\n",
       "        vertical-align: top;\n",
       "    }\n",
       "\n",
       "    .dataframe thead th {\n",
       "        text-align: right;\n",
       "    }\n",
       "</style>\n",
       "<table border=\"1\" class=\"dataframe\">\n",
       "  <thead>\n",
       "    <tr style=\"text-align: right;\">\n",
       "      <th></th>\n",
       "      <th>subreddit</th>\n",
       "      <th>content</th>\n",
       "    </tr>\n",
       "  </thead>\n",
       "  <tbody>\n",
       "    <tr>\n",
       "      <th>0</th>\n",
       "      <td>yoga</td>\n",
       "      <td>ankle swelling recently signed day pass local ...</td>\n",
       "    </tr>\n",
       "    <tr>\n",
       "      <th>1</th>\n",
       "      <td>yoga</td>\n",
       "      <td>cork mats better regular mat find get better w...</td>\n",
       "    </tr>\n",
       "    <tr>\n",
       "      <th>2</th>\n",
       "      <td>yoga</td>\n",
       "      <td>found new studio moved henderson nv ago studio...</td>\n",
       "    </tr>\n",
       "    <tr>\n",
       "      <th>3</th>\n",
       "      <td>yoga</td>\n",
       "      <td>started going classes sure get kind posts freq...</td>\n",
       "    </tr>\n",
       "    <tr>\n",
       "      <th>4</th>\n",
       "      <td>yoga</td>\n",
       "      <td>long take get good struggling core strength mo...</td>\n",
       "    </tr>\n",
       "  </tbody>\n",
       "</table>\n",
       "</div>"
      ],
      "text/plain": [
       "  subreddit                                            content\n",
       "0      yoga  ankle swelling recently signed day pass local ...\n",
       "1      yoga  cork mats better regular mat find get better w...\n",
       "2      yoga  found new studio moved henderson nv ago studio...\n",
       "3      yoga  started going classes sure get kind posts freq...\n",
       "4      yoga  long take get good struggling core strength mo..."
      ]
     },
     "execution_count": 25,
     "metadata": {},
     "output_type": "execute_result"
    }
   ],
   "source": [
    "yoga.head()"
   ]
  },
  {
   "cell_type": "code",
   "execution_count": 26,
   "id": "d5fb1d97-9c5b-4828-a097-d1b626786ab1",
   "metadata": {},
   "outputs": [
    {
     "data": {
      "text/html": [
       "<div>\n",
       "<style scoped>\n",
       "    .dataframe tbody tr th:only-of-type {\n",
       "        vertical-align: middle;\n",
       "    }\n",
       "\n",
       "    .dataframe tbody tr th {\n",
       "        vertical-align: top;\n",
       "    }\n",
       "\n",
       "    .dataframe thead th {\n",
       "        text-align: right;\n",
       "    }\n",
       "</style>\n",
       "<table border=\"1\" class=\"dataframe\">\n",
       "  <thead>\n",
       "    <tr style=\"text-align: right;\">\n",
       "      <th></th>\n",
       "      <th>subreddit</th>\n",
       "      <th>content</th>\n",
       "    </tr>\n",
       "  </thead>\n",
       "  <tbody>\n",
       "    <tr>\n",
       "      <th>0</th>\n",
       "      <td>pilates</td>\n",
       "      <td>thoughts bb iq reformer anybody experience bal...</td>\n",
       "    </tr>\n",
       "    <tr>\n",
       "      <th>1</th>\n",
       "      <td>pilates</td>\n",
       "      <td>hundred wrong anything abs hundred suggestions...</td>\n",
       "    </tr>\n",
       "    <tr>\n",
       "      <th>2</th>\n",
       "      <td>pilates</td>\n",
       "      <td>mini pro reformer hi new lagree attending stud...</td>\n",
       "    </tr>\n",
       "    <tr>\n",
       "      <th>3</th>\n",
       "      <td>pilates</td>\n",
       "      <td>tip instructor private session rule tip instru...</td>\n",
       "    </tr>\n",
       "    <tr>\n",
       "      <th>4</th>\n",
       "      <td>pilates</td>\n",
       "      <td>looking purchase reformer seeking advice help ...</td>\n",
       "    </tr>\n",
       "  </tbody>\n",
       "</table>\n",
       "</div>"
      ],
      "text/plain": [
       "  subreddit                                            content\n",
       "0   pilates  thoughts bb iq reformer anybody experience bal...\n",
       "1   pilates  hundred wrong anything abs hundred suggestions...\n",
       "2   pilates  mini pro reformer hi new lagree attending stud...\n",
       "3   pilates  tip instructor private session rule tip instru...\n",
       "4   pilates  looking purchase reformer seeking advice help ..."
      ]
     },
     "execution_count": 26,
     "metadata": {},
     "output_type": "execute_result"
    }
   ],
   "source": [
    "pilates.head()"
   ]
  },
  {
   "cell_type": "code",
   "execution_count": 27,
   "id": "3f686ec4-69f7-4fc4-b00b-211c75880f8a",
   "metadata": {},
   "outputs": [],
   "source": [
    "#Vertically concatenating the 2 dataframes\n",
    "\n",
    "nlp_df = pd.concat([yoga,pilates], axis=0)"
   ]
  },
  {
   "cell_type": "code",
   "execution_count": 28,
   "id": "5bb5a203-ba1f-4856-9a0d-ced1b09e5ff6",
   "metadata": {},
   "outputs": [
    {
     "data": {
      "text/html": [
       "<div>\n",
       "<style scoped>\n",
       "    .dataframe tbody tr th:only-of-type {\n",
       "        vertical-align: middle;\n",
       "    }\n",
       "\n",
       "    .dataframe tbody tr th {\n",
       "        vertical-align: top;\n",
       "    }\n",
       "\n",
       "    .dataframe thead th {\n",
       "        text-align: right;\n",
       "    }\n",
       "</style>\n",
       "<table border=\"1\" class=\"dataframe\">\n",
       "  <thead>\n",
       "    <tr style=\"text-align: right;\">\n",
       "      <th></th>\n",
       "      <th>subreddit</th>\n",
       "      <th>content</th>\n",
       "    </tr>\n",
       "  </thead>\n",
       "  <tbody>\n",
       "    <tr>\n",
       "      <th>0</th>\n",
       "      <td>0</td>\n",
       "      <td>ankle swelling recently signed day pass local ...</td>\n",
       "    </tr>\n",
       "    <tr>\n",
       "      <th>1</th>\n",
       "      <td>0</td>\n",
       "      <td>cork mats better regular mat find get better w...</td>\n",
       "    </tr>\n",
       "    <tr>\n",
       "      <th>2</th>\n",
       "      <td>0</td>\n",
       "      <td>found new studio moved henderson nv ago studio...</td>\n",
       "    </tr>\n",
       "    <tr>\n",
       "      <th>3</th>\n",
       "      <td>0</td>\n",
       "      <td>started going classes sure get kind posts freq...</td>\n",
       "    </tr>\n",
       "    <tr>\n",
       "      <th>4</th>\n",
       "      <td>0</td>\n",
       "      <td>long take get good struggling core strength mo...</td>\n",
       "    </tr>\n",
       "    <tr>\n",
       "      <th>...</th>\n",
       "      <td>...</td>\n",
       "      <td>...</td>\n",
       "    </tr>\n",
       "    <tr>\n",
       "      <th>995</th>\n",
       "      <td>1</td>\n",
       "      <td>advice often workout better mins ish fairly in...</td>\n",
       "    </tr>\n",
       "    <tr>\n",
       "      <th>996</th>\n",
       "      <td>1</td>\n",
       "      <td>keep getting lower back pain practicing starte...</td>\n",
       "    </tr>\n",
       "    <tr>\n",
       "      <th>997</th>\n",
       "      <td>1</td>\n",
       "      <td>advice hyper mobility getting started f cw hey...</td>\n",
       "    </tr>\n",
       "    <tr>\n",
       "      <th>998</th>\n",
       "      <td>1</td>\n",
       "      <td>need advice mom hello everyone mom inactive pa...</td>\n",
       "    </tr>\n",
       "    <tr>\n",
       "      <th>999</th>\n",
       "      <td>1</td>\n",
       "      <td>overwhelmed favorite online class follow overw...</td>\n",
       "    </tr>\n",
       "  </tbody>\n",
       "</table>\n",
       "<p>1982 rows × 2 columns</p>\n",
       "</div>"
      ],
      "text/plain": [
       "     subreddit                                            content\n",
       "0            0  ankle swelling recently signed day pass local ...\n",
       "1            0  cork mats better regular mat find get better w...\n",
       "2            0  found new studio moved henderson nv ago studio...\n",
       "3            0  started going classes sure get kind posts freq...\n",
       "4            0  long take get good struggling core strength mo...\n",
       "..         ...                                                ...\n",
       "995          1  advice often workout better mins ish fairly in...\n",
       "996          1  keep getting lower back pain practicing starte...\n",
       "997          1  advice hyper mobility getting started f cw hey...\n",
       "998          1  need advice mom hello everyone mom inactive pa...\n",
       "999          1  overwhelmed favorite online class follow overw...\n",
       "\n",
       "[1982 rows x 2 columns]"
      ]
     },
     "execution_count": 28,
     "metadata": {},
     "output_type": "execute_result"
    }
   ],
   "source": [
    "#Mapping them to the respective binary\n",
    "\n",
    "nlp_df['subreddit'] = nlp_df['subreddit'].map({'yoga': 0, 'pilates': 1})\n",
    "nlp_df"
   ]
  },
  {
   "cell_type": "code",
   "execution_count": 29,
   "id": "a625b11f-2e5a-4862-a75b-0b52dc3c84f8",
   "metadata": {},
   "outputs": [
    {
     "data": {
      "text/html": [
       "<div>\n",
       "<style scoped>\n",
       "    .dataframe tbody tr th:only-of-type {\n",
       "        vertical-align: middle;\n",
       "    }\n",
       "\n",
       "    .dataframe tbody tr th {\n",
       "        vertical-align: top;\n",
       "    }\n",
       "\n",
       "    .dataframe thead th {\n",
       "        text-align: right;\n",
       "    }\n",
       "</style>\n",
       "<table border=\"1\" class=\"dataframe\">\n",
       "  <thead>\n",
       "    <tr style=\"text-align: right;\">\n",
       "      <th></th>\n",
       "      <th>subreddit</th>\n",
       "      <th>content</th>\n",
       "    </tr>\n",
       "  </thead>\n",
       "  <tbody>\n",
       "    <tr>\n",
       "      <th>0</th>\n",
       "      <td>0</td>\n",
       "      <td>ankle swelling recently signed day pass local ...</td>\n",
       "    </tr>\n",
       "    <tr>\n",
       "      <th>1</th>\n",
       "      <td>0</td>\n",
       "      <td>cork mats better regular mat find get better w...</td>\n",
       "    </tr>\n",
       "    <tr>\n",
       "      <th>2</th>\n",
       "      <td>0</td>\n",
       "      <td>found new studio moved henderson nv ago studio...</td>\n",
       "    </tr>\n",
       "    <tr>\n",
       "      <th>3</th>\n",
       "      <td>0</td>\n",
       "      <td>started going classes sure get kind posts freq...</td>\n",
       "    </tr>\n",
       "    <tr>\n",
       "      <th>4</th>\n",
       "      <td>0</td>\n",
       "      <td>long take get good struggling core strength mo...</td>\n",
       "    </tr>\n",
       "    <tr>\n",
       "      <th>...</th>\n",
       "      <td>...</td>\n",
       "      <td>...</td>\n",
       "    </tr>\n",
       "    <tr>\n",
       "      <th>1977</th>\n",
       "      <td>1</td>\n",
       "      <td>advice often workout better mins ish fairly in...</td>\n",
       "    </tr>\n",
       "    <tr>\n",
       "      <th>1978</th>\n",
       "      <td>1</td>\n",
       "      <td>keep getting lower back pain practicing starte...</td>\n",
       "    </tr>\n",
       "    <tr>\n",
       "      <th>1979</th>\n",
       "      <td>1</td>\n",
       "      <td>advice hyper mobility getting started f cw hey...</td>\n",
       "    </tr>\n",
       "    <tr>\n",
       "      <th>1980</th>\n",
       "      <td>1</td>\n",
       "      <td>need advice mom hello everyone mom inactive pa...</td>\n",
       "    </tr>\n",
       "    <tr>\n",
       "      <th>1981</th>\n",
       "      <td>1</td>\n",
       "      <td>overwhelmed favorite online class follow overw...</td>\n",
       "    </tr>\n",
       "  </tbody>\n",
       "</table>\n",
       "<p>1982 rows × 2 columns</p>\n",
       "</div>"
      ],
      "text/plain": [
       "      subreddit                                            content\n",
       "0             0  ankle swelling recently signed day pass local ...\n",
       "1             0  cork mats better regular mat find get better w...\n",
       "2             0  found new studio moved henderson nv ago studio...\n",
       "3             0  started going classes sure get kind posts freq...\n",
       "4             0  long take get good struggling core strength mo...\n",
       "...         ...                                                ...\n",
       "1977          1  advice often workout better mins ish fairly in...\n",
       "1978          1  keep getting lower back pain practicing starte...\n",
       "1979          1  advice hyper mobility getting started f cw hey...\n",
       "1980          1  need advice mom hello everyone mom inactive pa...\n",
       "1981          1  overwhelmed favorite online class follow overw...\n",
       "\n",
       "[1982 rows x 2 columns]"
      ]
     },
     "execution_count": 29,
     "metadata": {},
     "output_type": "execute_result"
    }
   ],
   "source": [
    "#Reseting index\n",
    "\n",
    "nlp_df.reset_index(drop=True, inplace=True)\n",
    "nlp_df"
   ]
  },
  {
   "cell_type": "markdown",
   "id": "ed1c5574-0805-4640-80dd-cc268d014f97",
   "metadata": {
    "tags": []
   },
   "source": [
    "## Pre-Processing & EDA"
   ]
  },
  {
   "cell_type": "markdown",
   "id": "1c8e72ee-e5d8-4b06-8983-526d59339b87",
   "metadata": {},
   "source": [
    "#### Lemmatizing"
   ]
  },
  {
   "cell_type": "code",
   "execution_count": 30,
   "id": "25fc78eb-918e-4cae-bd07-459607f78d23",
   "metadata": {},
   "outputs": [],
   "source": [
    "#Instantiate lemmatizer.\n",
    "\n",
    "lemmatizer = WordNetLemmatizer()"
   ]
  },
  {
   "cell_type": "code",
   "execution_count": 31,
   "id": "b99cdfc7-1ffb-4ca0-b5cc-b7e1e5039ce3",
   "metadata": {},
   "outputs": [],
   "source": [
    "#Define function to lemmatize the words.\n",
    "\n",
    "def lemmatize_words(text):\n",
    "    word = text.split()\n",
    "    lemma_words = ''\n",
    "    for i in word:\n",
    "        lemma_words += lemmatizer.lemmatize(i) + ' '\n",
    "    return lemma_words"
   ]
  },
  {
   "cell_type": "code",
   "execution_count": 32,
   "id": "a575ca02-cc79-4482-ad1f-deef93cf9b07",
   "metadata": {},
   "outputs": [],
   "source": [
    "#Apply lemmatize_words function to the content column in nlp_df\n",
    "\n",
    "nlp_df['content'] = nlp_df['content'].apply(lemmatize_words)"
   ]
  },
  {
   "cell_type": "code",
   "execution_count": 33,
   "id": "3372d474-9c5c-47fa-afeb-a127dc4f48d0",
   "metadata": {},
   "outputs": [
    {
     "data": {
      "text/html": [
       "<div>\n",
       "<style scoped>\n",
       "    .dataframe tbody tr th:only-of-type {\n",
       "        vertical-align: middle;\n",
       "    }\n",
       "\n",
       "    .dataframe tbody tr th {\n",
       "        vertical-align: top;\n",
       "    }\n",
       "\n",
       "    .dataframe thead th {\n",
       "        text-align: right;\n",
       "    }\n",
       "</style>\n",
       "<table border=\"1\" class=\"dataframe\">\n",
       "  <thead>\n",
       "    <tr style=\"text-align: right;\">\n",
       "      <th></th>\n",
       "      <th>subreddit</th>\n",
       "      <th>content</th>\n",
       "    </tr>\n",
       "  </thead>\n",
       "  <tbody>\n",
       "    <tr>\n",
       "      <th>0</th>\n",
       "      <td>0</td>\n",
       "      <td>ankle swelling recently signed day pas local h...</td>\n",
       "    </tr>\n",
       "    <tr>\n",
       "      <th>1</th>\n",
       "      <td>0</td>\n",
       "      <td>cork mat better regular mat find get better wo...</td>\n",
       "    </tr>\n",
       "    <tr>\n",
       "      <th>2</th>\n",
       "      <td>0</td>\n",
       "      <td>found new studio moved henderson nv ago studio...</td>\n",
       "    </tr>\n",
       "    <tr>\n",
       "      <th>3</th>\n",
       "      <td>0</td>\n",
       "      <td>started going class sure get kind post frequen...</td>\n",
       "    </tr>\n",
       "    <tr>\n",
       "      <th>4</th>\n",
       "      <td>0</td>\n",
       "      <td>long take get good struggling core strength mo...</td>\n",
       "    </tr>\n",
       "  </tbody>\n",
       "</table>\n",
       "</div>"
      ],
      "text/plain": [
       "   subreddit                                            content\n",
       "0          0  ankle swelling recently signed day pas local h...\n",
       "1          0  cork mat better regular mat find get better wo...\n",
       "2          0  found new studio moved henderson nv ago studio...\n",
       "3          0  started going class sure get kind post frequen...\n",
       "4          0  long take get good struggling core strength mo..."
      ]
     },
     "execution_count": 33,
     "metadata": {},
     "output_type": "execute_result"
    }
   ],
   "source": [
    "nlp_df.head()"
   ]
  },
  {
   "cell_type": "code",
   "execution_count": 34,
   "id": "5da89795-00da-45a6-9cbb-ae192b181b83",
   "metadata": {},
   "outputs": [
    {
     "data": {
      "text/plain": [
       "(1982, 2)"
      ]
     },
     "execution_count": 34,
     "metadata": {},
     "output_type": "execute_result"
    }
   ],
   "source": [
    "nlp_df.shape"
   ]
  },
  {
   "cell_type": "code",
   "execution_count": 35,
   "id": "a77f1ca5-6fbd-423c-af09-e2ca0f7d90d0",
   "metadata": {},
   "outputs": [
    {
     "name": "stdout",
     "output_type": "stream",
     "text": [
      "<class 'pandas.core.frame.DataFrame'>\n",
      "RangeIndex: 1982 entries, 0 to 1981\n",
      "Data columns (total 2 columns):\n",
      " #   Column     Non-Null Count  Dtype \n",
      "---  ------     --------------  ----- \n",
      " 0   subreddit  1982 non-null   int64 \n",
      " 1   content    1982 non-null   object\n",
      "dtypes: int64(1), object(1)\n",
      "memory usage: 31.1+ KB\n"
     ]
    }
   ],
   "source": [
    "nlp_df.info()"
   ]
  },
  {
   "cell_type": "code",
   "execution_count": 36,
   "id": "3bb40284-4fc9-4ac2-ae9c-40815ef0fa30",
   "metadata": {},
   "outputs": [],
   "source": [
    "#Exporting the nlp_df into csv file\n",
    "\n",
    "nlp_df.to_csv('final_nlp.csv', index = False)"
   ]
  },
  {
   "cell_type": "markdown",
   "id": "122723f9-f2c0-4743-ad9a-19d7a87a361f",
   "metadata": {},
   "source": [
    "#### Count Vectorizer"
   ]
  },
  {
   "cell_type": "code",
   "execution_count": 37,
   "id": "c23be219-9848-4291-a34e-2b881426f4dc",
   "metadata": {},
   "outputs": [],
   "source": [
    "#Instantiate the \"CountVectorizer\" \n",
    "#Limiting the max features to 50 because I want to find the most frequently commented words.\n",
    "#Using unigram and bigram because sometimes words such as 'happy' may be preceeded by 'not happy'.\n",
    "#The former has a positive connotation while the latter has a negative connotation. \n",
    "#Hence it is important to also include bigram.\n",
    "\n",
    "vectorizer = CountVectorizer(analyzer = \"word\",\n",
    "                             tokenizer = None,\n",
    "                             preprocessor = None,\n",
    "                             stop_words = None,\n",
    "                             max_features = 50,\n",
    "                            ngram_range=(1,2)) "
   ]
  },
  {
   "cell_type": "code",
   "execution_count": 38,
   "id": "459712fa-b5ab-401a-8b06-36b0bb7816da",
   "metadata": {},
   "outputs": [],
   "source": [
    "vector_yoga = nlp_df[nlp_df['subreddit'] == 0]['content']"
   ]
  },
  {
   "cell_type": "code",
   "execution_count": 39,
   "id": "75362a4a-efb9-43c3-aafc-0aea6a2f7130",
   "metadata": {},
   "outputs": [],
   "source": [
    "features_yoga = vectorizer.fit_transform(vector_yoga)\n",
    "features_yoga = features_yoga.toarray()"
   ]
  },
  {
   "cell_type": "code",
   "execution_count": 40,
   "id": "8ee8f6bd-c298-4abd-8623-9db484f4e08d",
   "metadata": {},
   "outputs": [
    {
     "name": "stdout",
     "output_type": "stream",
     "text": [
      "['also', 'anyone', 'back', 'beginner', 'body', 'class', 'could', 'day', 'even', 'find', 'get', 'go', 'good', 'help', 'hi', 'know', 'leg', 'life', 'like', 'looking', 'lot', 'love', 'make', 'mat', 'month', 'much', 'need', 'new', 'one', 'pain', 'people', 'pose', 'practice', 'practicing', 'really', 'something', 'started', 'studio', 'teacher', 'thanks', 'thing', 'think', 'time', 'video', 'want', 'way', 'week', 'work', 'would', 'year']\n"
     ]
    },
    {
     "name": "stderr",
     "output_type": "stream",
     "text": [
      "/Users/twangxh/opt/anaconda3/lib/python3.9/site-packages/sklearn/utils/deprecation.py:87: FutureWarning: Function get_feature_names is deprecated; get_feature_names is deprecated in 1.0 and will be removed in 1.2. Please use get_feature_names_out instead.\n",
      "  warnings.warn(msg, category=FutureWarning)\n"
     ]
    }
   ],
   "source": [
    "#Getting yoga top 50 features (aka words) to visualise in Word Cloud\n",
    "\n",
    "vocab_yoga = vectorizer.get_feature_names()\n",
    "print(vocab_yoga)"
   ]
  },
  {
   "cell_type": "code",
   "execution_count": 41,
   "id": "443a3b01-e5eb-47ea-8f2c-731c7002d551",
   "metadata": {},
   "outputs": [],
   "source": [
    "yoga_content = str([i for i in vocab_yoga])"
   ]
  },
  {
   "cell_type": "code",
   "execution_count": 42,
   "id": "57a9be09-b7fa-4f3a-82b2-8fcc7561c73d",
   "metadata": {},
   "outputs": [],
   "source": [
    "yoga_content = yoga_content.replace(\"'\", \"\")"
   ]
  },
  {
   "cell_type": "markdown",
   "id": "c3175d2c-15cd-416b-b37b-89cf0329e6ce",
   "metadata": {},
   "source": [
    "#### Word Cloud for Yoga"
   ]
  },
  {
   "cell_type": "code",
   "execution_count": 43,
   "id": "9efcd4f4-e434-4059-a788-3b76129ed75a",
   "metadata": {},
   "outputs": [
    {
     "data": {
      "image/png": "[encoded data removed]",
      "text/plain": [
       "<Figure size 720x576 with 1 Axes>"
      ]
     },
     "metadata": {
      "needs_background": "light"
     },
     "output_type": "display_data"
    }
   ],
   "source": [
    "#Displaying the top 50 words for yoga via Word Cloud\n",
    "\n",
    "wordcloud_yoga = WordCloud(max_font_size=50, max_words=50, background_color=\"white\",\n",
    "                     contour_width=2, contour_color='firebrick').generate(yoga_content)\n",
    "plt.figure(figsize=(10,8))\n",
    "plt.imshow(wordcloud_yoga, interpolation=\"bilinear\")\n",
    "plt.axis(\"off\")\n",
    "plt.show()"
   ]
  },
  {
   "cell_type": "code",
   "execution_count": 44,
   "id": "8e0d46f4-5de0-4e63-af4d-8c8a01914dbd",
   "metadata": {},
   "outputs": [],
   "source": [
    "vector_pilates = nlp_df[nlp_df['subreddit'] == 1]['content']"
   ]
  },
  {
   "cell_type": "code",
   "execution_count": 45,
   "id": "d46c1fba-b357-4a5c-aec9-3d50e3e16b95",
   "metadata": {},
   "outputs": [],
   "source": [
    "features_pilates = vectorizer.fit_transform(vector_pilates)\n",
    "features_pilates = features_pilates.toarray()"
   ]
  },
  {
   "cell_type": "code",
   "execution_count": 46,
   "id": "03ffa267-44f6-48f8-a043-2009383d0a1f",
   "metadata": {},
   "outputs": [
    {
     "name": "stdout",
     "output_type": "stream",
     "text": [
      "['also', 'anyone', 'back', 'body', 'class', 'day', 'exercise', 'get', 'go', 'good', 'help', 'hi', 'home', 'instructor', 'know', 'like', 'looking', 'lot', 'love', 'make', 'mat', 'much', 'muscle', 'need', 'new', 'one', 'pain', 'people', 'practice', 'really', 'reformer', 'started', 'studio', 'teacher', 'thanks', 'thing', 'think', 'time', 'training', 'use', 'video', 'want', 'way', 'week', 'weight', 'work', 'workout', 'would', 'year', 'youtube']\n"
     ]
    }
   ],
   "source": [
    "#Getting pilates top 50 features (aka words) to visualise in Word Cloud\n",
    "\n",
    "vocab_pilates = vectorizer.get_feature_names()\n",
    "print(vocab_pilates)"
   ]
  },
  {
   "cell_type": "code",
   "execution_count": 47,
   "id": "8a93abbb-b909-4638-a708-85d3b0233e36",
   "metadata": {},
   "outputs": [],
   "source": [
    "pilates_content = str([i for i in vocab_pilates])"
   ]
  },
  {
   "cell_type": "code",
   "execution_count": 48,
   "id": "1ddc1cc5-a695-4df4-9f00-65dde55d4c38",
   "metadata": {},
   "outputs": [],
   "source": [
    "pilates_content = pilates_content.replace(\"'\", \"\")"
   ]
  },
  {
   "cell_type": "markdown",
   "id": "fe640d21-45a1-4251-8372-73e605fc9060",
   "metadata": {},
   "source": [
    "#### Word Cloud for Pilates"
   ]
  },
  {
   "cell_type": "code",
   "execution_count": 49,
   "id": "396379eb-ecb3-4bc4-8ac7-597aa1fe962b",
   "metadata": {},
   "outputs": [
    {
     "data": {
      "image/png": "[encoded data removed]",
      "text/plain": [
       "<Figure size 720x576 with 1 Axes>"
      ]
     },
     "metadata": {
      "needs_background": "light"
     },
     "output_type": "display_data"
    }
   ],
   "source": [
    "#Displaying the top 50 words for pilates via Word Cloud\n",
    "\n",
    "wordcloud_pilates = WordCloud(max_font_size=50, max_words=50, background_color=\"white\",\n",
    "                     contour_width=2, contour_color='firebrick').generate(pilates_content)\n",
    "plt.figure(figsize=(10,8))\n",
    "plt.imshow(wordcloud_pilates, interpolation=\"bilinear\")\n",
    "plt.axis(\"off\")\n",
    "plt.show()"
   ]
  },
  {
   "cell_type": "markdown",
   "id": "cd1dbf3c-6fe7-456e-9e03-8d5b4ffe3645",
   "metadata": {},
   "source": [
    "From the word cloud, we notice that there are a few words that appear in both word clouds. The words are 'beginner', 'anyone', 'class', 'body'. \n",
    "\n",
    "It seems like the way people comment on reddit about yoga and pilates are similar."
   ]
  },
  {
   "cell_type": "markdown",
   "id": "f7d9b26a-7cfd-4926-be8b-3b51386a9f2b",
   "metadata": {},
   "source": [
    "#### Yoga Top 15 Common Words"
   ]
  },
  {
   "cell_type": "code",
   "execution_count": 50,
   "id": "d2d32a31-18d6-485b-9c5c-3ca258848d2c",
   "metadata": {},
   "outputs": [],
   "source": [
    "#Getting yoga top 15 words to visualise in Bar Chart\n",
    "\n",
    "nlp_yoga = nlp_df[nlp_df['subreddit'] == 0]['content']\n",
    "cv = CountVectorizer()\n",
    "cv.fit(nlp_yoga)\n",
    "\n",
    "yoga_post_cv = cv.transform(nlp_yoga)\n",
    "yoga_post_df = pd.DataFrame(yoga_post_cv.todense(), columns=cv.get_feature_names())"
   ]
  },
  {
   "cell_type": "code",
   "execution_count": 51,
   "id": "77f001bc-713a-4e75-b58e-3a46806e0f90",
   "metadata": {},
   "outputs": [
    {
     "data": {
      "text/html": [
       "<div>\n",
       "<style scoped>\n",
       "    .dataframe tbody tr th:only-of-type {\n",
       "        vertical-align: middle;\n",
       "    }\n",
       "\n",
       "    .dataframe tbody tr th {\n",
       "        vertical-align: top;\n",
       "    }\n",
       "\n",
       "    .dataframe thead th {\n",
       "        text-align: right;\n",
       "    }\n",
       "</style>\n",
       "<table border=\"1\" class=\"dataframe\">\n",
       "  <thead>\n",
       "    <tr style=\"text-align: right;\">\n",
       "      <th></th>\n",
       "      <th>like</th>\n",
       "      <th>pose</th>\n",
       "      <th>class</th>\n",
       "      <th>practice</th>\n",
       "      <th>back</th>\n",
       "      <th>get</th>\n",
       "      <th>time</th>\n",
       "      <th>day</th>\n",
       "      <th>really</th>\n",
       "      <th>would</th>\n",
       "      <th>know</th>\n",
       "      <th>anyone</th>\n",
       "      <th>one</th>\n",
       "      <th>help</th>\n",
       "      <th>year</th>\n",
       "    </tr>\n",
       "  </thead>\n",
       "  <tbody>\n",
       "    <tr>\n",
       "      <th>Count</th>\n",
       "      <td>571</td>\n",
       "      <td>495</td>\n",
       "      <td>454</td>\n",
       "      <td>434</td>\n",
       "      <td>315</td>\n",
       "      <td>313</td>\n",
       "      <td>305</td>\n",
       "      <td>301</td>\n",
       "      <td>294</td>\n",
       "      <td>284</td>\n",
       "      <td>270</td>\n",
       "      <td>264</td>\n",
       "      <td>262</td>\n",
       "      <td>253</td>\n",
       "      <td>248</td>\n",
       "    </tr>\n",
       "  </tbody>\n",
       "</table>\n",
       "</div>"
      ],
      "text/plain": [
       "       like  pose  class  practice  back  get  time  day  really  would  know  \\\n",
       "Count   571   495    454       434   315  313   305  301     294    284   270   \n",
       "\n",
       "       anyone  one  help  year  \n",
       "Count     264  262   253   248  "
      ]
     },
     "execution_count": 51,
     "metadata": {},
     "output_type": "execute_result"
    }
   ],
   "source": [
    "#Number of count each word appeared\n",
    "\n",
    "yoga_top_words = pd.DataFrame(yoga_post_df.sum().sort_values(ascending=False)[:15], columns = ['Count'])\n",
    "yoga_top_words.T"
   ]
  },
  {
   "cell_type": "code",
   "execution_count": 52,
   "id": "9acd9b0b-fc58-4460-a1ec-f63156eba341",
   "metadata": {},
   "outputs": [
    {
     "data": {
      "image/png": "[encoded data removed]",
      "text/plain": [
       "<Figure size 864x576 with 1 Axes>"
      ]
     },
     "metadata": {
      "needs_background": "light"
     },
     "output_type": "display_data"
    }
   ],
   "source": [
    "#Displaying the top 15 words for yoga via Bar Chart\n",
    "\n",
    "import seaborn as sns\n",
    "\n",
    "fig, ax = plt.subplots(figsize=(12,8))\n",
    "sns.barplot(x='Count', y=yoga_top_words.index , data=yoga_top_words, palette = \"rainbow\")\n",
    "plt.title('Yoga: Top 15 common words',fontsize=20)\n",
    "plt.xlabel('Word Count', fontsize=12)\n",
    "plt.yticks(fontsize=15)\n",
    "plt.tight_layout()"
   ]
  },
  {
   "cell_type": "markdown",
   "id": "ab1c4849-a0b4-4ae4-b52a-e5a50721ca6a",
   "metadata": {},
   "source": [
    "#### Pilates Top 15 Common Words"
   ]
  },
  {
   "cell_type": "code",
   "execution_count": 53,
   "id": "b4b75423-0a10-4aa3-8ad8-dab9e4f6c236",
   "metadata": {},
   "outputs": [
    {
     "name": "stderr",
     "output_type": "stream",
     "text": [
      "/Users/twangxh/opt/anaconda3/lib/python3.9/site-packages/sklearn/utils/deprecation.py:87: FutureWarning: Function get_feature_names is deprecated; get_feature_names is deprecated in 1.0 and will be removed in 1.2. Please use get_feature_names_out instead.\n",
      "  warnings.warn(msg, category=FutureWarning)\n"
     ]
    }
   ],
   "source": [
    "#Getting yoga top 15 words to visualise in Bar Chart\n",
    "\n",
    "nlp_pilates = nlp_df[nlp_df['subreddit'] == 1]['content']\n",
    "cv = CountVectorizer()\n",
    "cv.fit(nlp_pilates)\n",
    "\n",
    "pilates_post_cv = cv.transform(nlp_pilates)\n",
    "pilates_post_df = pd.DataFrame(pilates_post_cv.todense(), columns=cv.get_feature_names())"
   ]
  },
  {
   "cell_type": "code",
   "execution_count": 54,
   "id": "e4bae33e-c93f-49f1-a25f-32bfff399cc0",
   "metadata": {},
   "outputs": [
    {
     "data": {
      "text/html": [
       "<div>\n",
       "<style scoped>\n",
       "    .dataframe tbody tr th:only-of-type {\n",
       "        vertical-align: middle;\n",
       "    }\n",
       "\n",
       "    .dataframe tbody tr th {\n",
       "        vertical-align: top;\n",
       "    }\n",
       "\n",
       "    .dataframe thead th {\n",
       "        text-align: right;\n",
       "    }\n",
       "</style>\n",
       "<table border=\"1\" class=\"dataframe\">\n",
       "  <thead>\n",
       "    <tr style=\"text-align: right;\">\n",
       "      <th></th>\n",
       "      <th>class</th>\n",
       "      <th>reformer</th>\n",
       "      <th>like</th>\n",
       "      <th>body</th>\n",
       "      <th>would</th>\n",
       "      <th>exercise</th>\n",
       "      <th>instructor</th>\n",
       "      <th>anyone</th>\n",
       "      <th>get</th>\n",
       "      <th>time</th>\n",
       "      <th>studio</th>\n",
       "      <th>one</th>\n",
       "      <th>back</th>\n",
       "      <th>week</th>\n",
       "      <th>really</th>\n",
       "    </tr>\n",
       "  </thead>\n",
       "  <tbody>\n",
       "    <tr>\n",
       "      <th>Count</th>\n",
       "      <td>644</td>\n",
       "      <td>561</td>\n",
       "      <td>464</td>\n",
       "      <td>418</td>\n",
       "      <td>351</td>\n",
       "      <td>347</td>\n",
       "      <td>337</td>\n",
       "      <td>325</td>\n",
       "      <td>318</td>\n",
       "      <td>314</td>\n",
       "      <td>303</td>\n",
       "      <td>302</td>\n",
       "      <td>293</td>\n",
       "      <td>290</td>\n",
       "      <td>283</td>\n",
       "    </tr>\n",
       "  </tbody>\n",
       "</table>\n",
       "</div>"
      ],
      "text/plain": [
       "       class  reformer  like  body  would  exercise  instructor  anyone  get  \\\n",
       "Count    644       561   464   418    351       347         337     325  318   \n",
       "\n",
       "       time  studio  one  back  week  really  \n",
       "Count   314     303  302   293   290     283  "
      ]
     },
     "execution_count": 54,
     "metadata": {},
     "output_type": "execute_result"
    }
   ],
   "source": [
    "#Number of count each word appeared\n",
    "\n",
    "pilates_top_words = pd.DataFrame(pilates_post_df.sum().sort_values(ascending=False)[:15], columns = ['Count'])\n",
    "pilates_top_words.T"
   ]
  },
  {
   "cell_type": "code",
   "execution_count": 55,
   "id": "814eb7ff-7237-4bf6-a8fe-0948a0f3b9bf",
   "metadata": {},
   "outputs": [
    {
     "data": {
      "image/png": "[encoded data removed]",
      "text/plain": [
       "<Figure size 864x576 with 1 Axes>"
      ]
     },
     "metadata": {
      "needs_background": "light"
     },
     "output_type": "display_data"
    }
   ],
   "source": [
    "#Displaying the top 15 words for pilates via Bar Chart\n",
    "\n",
    "fig, ax = plt.subplots(figsize=(12,8))\n",
    "sns.barplot(x='Count', y=pilates_top_words.index , data=pilates_top_words, palette = \"rainbow\")\n",
    "plt.title('Pilates: Top 15 common words',fontsize=20)\n",
    "plt.xlabel('Word Count', fontsize=12)\n",
    "plt.yticks(fontsize=15)\n",
    "plt.tight_layout()"
   ]
  },
  {
   "cell_type": "markdown",
   "id": "6b73cb8c-a745-4097-9382-6f4ba51277d3",
   "metadata": {},
   "source": [
    "#### Top Common Words for both Yoga & Pilates (unigram & bigram)"
   ]
  },
  {
   "cell_type": "code",
   "execution_count": 56,
   "id": "39b165c5-9695-4546-8178-0076d76eea8e",
   "metadata": {},
   "outputs": [
    {
     "data": {
      "text/plain": [
       "['like', 'class', 'back', 'get', 'time', 'really', 'would', 'anyone', 'one']"
      ]
     },
     "execution_count": 56,
     "metadata": {},
     "output_type": "execute_result"
    }
   ],
   "source": [
    "# words that appear in both subreddits.\n",
    "both_subreddits = []\n",
    "for i in range(15):\n",
    "    for j in range(15):\n",
    "        if yoga_top_words.index[i] == pilates_top_words.index[j]:\n",
    "            both_subreddits.append(yoga_top_words.index[i])\n",
    "both_subreddits"
   ]
  },
  {
   "cell_type": "code",
   "execution_count": 57,
   "id": "7709ee0d-0a04-4a08-a8bf-f52e9a5f2e1e",
   "metadata": {},
   "outputs": [
    {
     "name": "stdout",
     "output_type": "stream",
     "text": [
      "====== Both =======\n",
      "['like', 'class', 'back', 'get', 'time', 'really', 'would', 'anyone', 'one']\n",
      "=====Yoga=====\n",
      "['pose', 'practice', 'day', 'know', 'help', 'year']\n",
      "=====Pilates=====\n",
      "['reformer', 'body', 'exercise', 'instructor', 'studio', 'week']\n"
     ]
    }
   ],
   "source": [
    "yoga_words = list(yoga_top_words.index)\n",
    "pilates_words = list(pilates_top_words.index)\n",
    "print('====== Both =======')\n",
    "print(both_subreddits)\n",
    "print('=====Yoga=====')\n",
    "print([x for x in yoga_words if x not in set(pilates_words)])\n",
    "print('=====Pilates=====')\n",
    "print([x for x in pilates_words if x not in set(yoga_words)])"
   ]
  },
  {
   "cell_type": "markdown",
   "id": "02e09437-2e85-4572-a68f-95b6e6cb4ed7",
   "metadata": {},
   "source": [
    "After comparing the top 15 common words from each subreddit, we can see that people does use different words to comment on them.\n",
    "\n",
    "Yoga: Words like 'pose' are common in yoga as there are a lot of different yoga poses.  \n",
    "\n",
    "Pilates: Words like 'reformer' is unique to pilates subreddit as reformer is an equipment that is used during pilates. Hence, it would only appear in Pilates and not Yoga."
   ]
  },
  {
   "cell_type": "code",
   "execution_count": 72,
   "id": "a3f03ed9-70fb-46eb-9b5e-d51be5aa1e41",
   "metadata": {},
   "outputs": [
    {
     "name": "stderr",
     "output_type": "stream",
     "text": [
      "/Users/twangxh/opt/anaconda3/lib/python3.9/site-packages/sklearn/utils/deprecation.py:87: FutureWarning: Function get_feature_names is deprecated; get_feature_names is deprecated in 1.0 and will be removed in 1.2. Please use get_feature_names_out instead.\n",
      "  warnings.warn(msg, category=FutureWarning)\n"
     ]
    },
    {
     "data": {
      "text/html": [
       "<div>\n",
       "<style scoped>\n",
       "    .dataframe tbody tr th:only-of-type {\n",
       "        vertical-align: middle;\n",
       "    }\n",
       "\n",
       "    .dataframe tbody tr th {\n",
       "        vertical-align: top;\n",
       "    }\n",
       "\n",
       "    .dataframe thead th {\n",
       "        text-align: right;\n",
       "    }\n",
       "</style>\n",
       "<table border=\"1\" class=\"dataframe\">\n",
       "  <thead>\n",
       "    <tr style=\"text-align: right;\">\n",
       "      <th></th>\n",
       "      <th>Count</th>\n",
       "    </tr>\n",
       "  </thead>\n",
       "  <tbody>\n",
       "    <tr>\n",
       "      <th>downward dog</th>\n",
       "      <td>33</td>\n",
       "    </tr>\n",
       "    <tr>\n",
       "      <th>thanks advance</th>\n",
       "      <td>29</td>\n",
       "    </tr>\n",
       "    <tr>\n",
       "      <th>dog app</th>\n",
       "      <td>29</td>\n",
       "    </tr>\n",
       "    <tr>\n",
       "      <th>forward fold</th>\n",
       "      <td>27</td>\n",
       "    </tr>\n",
       "    <tr>\n",
       "      <th>months ago</th>\n",
       "      <td>26</td>\n",
       "    </tr>\n",
       "    <tr>\n",
       "      <th>preview redd</th>\n",
       "      <td>25</td>\n",
       "    </tr>\n",
       "    <tr>\n",
       "      <th>auto webp</th>\n",
       "      <td>25</td>\n",
       "    </tr>\n",
       "    <tr>\n",
       "      <th>width format</th>\n",
       "      <td>25</td>\n",
       "    </tr>\n",
       "    <tr>\n",
       "      <th>thank advance</th>\n",
       "      <td>24</td>\n",
       "    </tr>\n",
       "    <tr>\n",
       "      <th>mental health</th>\n",
       "      <td>23</td>\n",
       "    </tr>\n",
       "    <tr>\n",
       "      <th>times week</th>\n",
       "      <td>18</td>\n",
       "    </tr>\n",
       "    <tr>\n",
       "      <th>teacher training</th>\n",
       "      <td>18</td>\n",
       "    </tr>\n",
       "    <tr>\n",
       "      <th>format auto</th>\n",
       "      <td>16</td>\n",
       "    </tr>\n",
       "    <tr>\n",
       "      <th>years ago</th>\n",
       "      <td>16</td>\n",
       "    </tr>\n",
       "    <tr>\n",
       "      <th>daily practice</th>\n",
       "      <td>16</td>\n",
       "    </tr>\n",
       "  </tbody>\n",
       "</table>\n",
       "</div>"
      ],
      "text/plain": [
       "                  Count\n",
       "downward dog         33\n",
       "thanks advance       29\n",
       "dog app              29\n",
       "forward fold         27\n",
       "months ago           26\n",
       "preview redd         25\n",
       "auto webp            25\n",
       "width format         25\n",
       "thank advance        24\n",
       "mental health        23\n",
       "times week           18\n",
       "teacher training     18\n",
       "format auto          16\n",
       "years ago            16\n",
       "daily practice       16"
      ]
     },
     "execution_count": 72,
     "metadata": {},
     "output_type": "execute_result"
    }
   ],
   "source": [
    "cv_bigrams = CountVectorizer(ngram_range=(2, 2), stop_words='english')\n",
    "cv_bigrams.fit(yoga['content'])\n",
    "\n",
    "bigrams_cv = cv_bigrams.transform(yoga['content'])\n",
    "bigrams_df = pd.DataFrame(bigrams_cv.todense(), columns=cv_bigrams.get_feature_names())\n",
    "\n",
    "bigrams_df.sum().sort_values(ascending=False).head(15)\n",
    "\n",
    "yoga_top_biwords = pd.DataFrame(bigrams_df.sum().sort_values(ascending=False).head(15), columns = ['Count'])\n",
    "yoga_top_biwords"
   ]
  },
  {
   "cell_type": "markdown",
   "id": "fd74dd67-9311-4c23-a384-1eb0c4ceebef",
   "metadata": {},
   "source": [
    "From yoga's biwords, we can see that poses name like 'downward dog' and 'forward fold' are pretty common. Mental health is also mentioned quite frequent. As shared under outside research, yoga focus on the spiritual aspect as well. "
   ]
  },
  {
   "cell_type": "code",
   "execution_count": 59,
   "id": "319682ff-1324-466e-98c4-22bda806e27b",
   "metadata": {},
   "outputs": [
    {
     "name": "stderr",
     "output_type": "stream",
     "text": [
      "/Users/twangxh/opt/anaconda3/lib/python3.9/site-packages/sklearn/utils/deprecation.py:87: FutureWarning: Function get_feature_names is deprecated; get_feature_names is deprecated in 1.0 and will be removed in 1.2. Please use get_feature_names_out instead.\n",
      "  warnings.warn(msg, category=FutureWarning)\n"
     ]
    },
    {
     "data": {
      "text/html": [
       "<div>\n",
       "<style scoped>\n",
       "    .dataframe tbody tr th:only-of-type {\n",
       "        vertical-align: middle;\n",
       "    }\n",
       "\n",
       "    .dataframe tbody tr th {\n",
       "        vertical-align: top;\n",
       "    }\n",
       "\n",
       "    .dataframe thead th {\n",
       "        text-align: right;\n",
       "    }\n",
       "</style>\n",
       "<table border=\"1\" class=\"dataframe\">\n",
       "  <thead>\n",
       "    <tr style=\"text-align: right;\">\n",
       "      <th></th>\n",
       "      <th>Count</th>\n",
       "    </tr>\n",
       "  </thead>\n",
       "  <tbody>\n",
       "    <tr>\n",
       "      <th>balanced body</th>\n",
       "      <td>72</td>\n",
       "    </tr>\n",
       "    <tr>\n",
       "      <th>times week</th>\n",
       "      <td>62</td>\n",
       "    </tr>\n",
       "    <tr>\n",
       "      <th>youtube watch</th>\n",
       "      <td>40</td>\n",
       "    </tr>\n",
       "    <tr>\n",
       "      <th>reformer classes</th>\n",
       "      <td>38</td>\n",
       "    </tr>\n",
       "    <tr>\n",
       "      <th>reformer home</th>\n",
       "      <td>29</td>\n",
       "    </tr>\n",
       "    <tr>\n",
       "      <th>weight loss</th>\n",
       "      <td>29</td>\n",
       "    </tr>\n",
       "    <tr>\n",
       "      <th>really like</th>\n",
       "      <td>28</td>\n",
       "    </tr>\n",
       "    <tr>\n",
       "      <th>teacher training</th>\n",
       "      <td>28</td>\n",
       "    </tr>\n",
       "    <tr>\n",
       "      <th>thanks advance</th>\n",
       "      <td>27</td>\n",
       "    </tr>\n",
       "    <tr>\n",
       "      <th>group classes</th>\n",
       "      <td>24</td>\n",
       "    </tr>\n",
       "    <tr>\n",
       "      <th>home use</th>\n",
       "      <td>23</td>\n",
       "    </tr>\n",
       "    <tr>\n",
       "      <th>days week</th>\n",
       "      <td>22</td>\n",
       "    </tr>\n",
       "    <tr>\n",
       "      <th>years ago</th>\n",
       "      <td>21</td>\n",
       "    </tr>\n",
       "    <tr>\n",
       "      <th>online classes</th>\n",
       "      <td>21</td>\n",
       "    </tr>\n",
       "    <tr>\n",
       "      <th>home reformer</th>\n",
       "      <td>20</td>\n",
       "    </tr>\n",
       "  </tbody>\n",
       "</table>\n",
       "</div>"
      ],
      "text/plain": [
       "                  Count\n",
       "balanced body        72\n",
       "times week           62\n",
       "youtube watch        40\n",
       "reformer classes     38\n",
       "reformer home        29\n",
       "weight loss          29\n",
       "really like          28\n",
       "teacher training     28\n",
       "thanks advance       27\n",
       "group classes        24\n",
       "home use             23\n",
       "days week            22\n",
       "years ago            21\n",
       "online classes       21\n",
       "home reformer        20"
      ]
     },
     "execution_count": 59,
     "metadata": {},
     "output_type": "execute_result"
    }
   ],
   "source": [
    "cv_bigrams = CountVectorizer(ngram_range=(2, 2), stop_words='english')\n",
    "cv_bigrams.fit(pilates['content'])\n",
    "\n",
    "bigrams_cv = cv_bigrams.transform(pilates['content'])\n",
    "bigrams_df = pd.DataFrame(bigrams_cv.todense(), columns=cv_bigrams.get_feature_names())\n",
    "\n",
    "bigrams_df.sum().sort_values(ascending=False).head(15)\n",
    "\n",
    "pilates_top_biwords = pd.DataFrame(bigrams_df.sum().sort_values(ascending=False).head(15), columns = ['Count'])\n",
    "pilates_top_biwords"
   ]
  },
  {
   "cell_type": "markdown",
   "id": "0d235471-8c8a-494c-9b67-3ccc265a08ac",
   "metadata": {},
   "source": [
    "From pilates's biwords, we can see that the word 'reformer' appeares in both unigram and bigram. People are very curious about having reformer at home as we can see 'reformer home' and 'home reformer'. The top biword is 'balanced body', people who are looking to tone their overall physique seems to prefer pilates."
   ]
  },
  {
   "cell_type": "markdown",
   "id": "babc08f4-4108-4560-b3b8-efef31ce1471",
   "metadata": {
    "tags": []
   },
   "source": [
    "### Sentiment Analysis"
   ]
  },
  {
   "cell_type": "code",
   "execution_count": 60,
   "id": "d272abdc-61f2-4f61-93de-1cd33c3f142c",
   "metadata": {},
   "outputs": [],
   "source": [
    "#Instantiate Sentiment Intensity Analyzer\n",
    "sent = SentimentIntensityAnalyzer()\n",
    "\n",
    "#Get the sentiment scores\n",
    "sentiment = [sent.polarity_scores(i) for i in nlp_df.content]"
   ]
  },
  {
   "cell_type": "code",
   "execution_count": 61,
   "id": "972c3789-3c19-4fdb-bec0-a990d7481eb4",
   "metadata": {},
   "outputs": [
    {
     "data": {
      "text/html": [
       "<div>\n",
       "<style scoped>\n",
       "    .dataframe tbody tr th:only-of-type {\n",
       "        vertical-align: middle;\n",
       "    }\n",
       "\n",
       "    .dataframe tbody tr th {\n",
       "        vertical-align: top;\n",
       "    }\n",
       "\n",
       "    .dataframe thead th {\n",
       "        text-align: right;\n",
       "    }\n",
       "</style>\n",
       "<table border=\"1\" class=\"dataframe\">\n",
       "  <thead>\n",
       "    <tr style=\"text-align: right;\">\n",
       "      <th></th>\n",
       "      <th>neg</th>\n",
       "      <th>neu</th>\n",
       "      <th>pos</th>\n",
       "      <th>compound</th>\n",
       "    </tr>\n",
       "  </thead>\n",
       "  <tbody>\n",
       "    <tr>\n",
       "      <th>0</th>\n",
       "      <td>0.045</td>\n",
       "      <td>0.824</td>\n",
       "      <td>0.131</td>\n",
       "      <td>0.4404</td>\n",
       "    </tr>\n",
       "    <tr>\n",
       "      <th>1</th>\n",
       "      <td>0.109</td>\n",
       "      <td>0.442</td>\n",
       "      <td>0.449</td>\n",
       "      <td>0.9201</td>\n",
       "    </tr>\n",
       "    <tr>\n",
       "      <th>2</th>\n",
       "      <td>0.174</td>\n",
       "      <td>0.826</td>\n",
       "      <td>0.000</td>\n",
       "      <td>-0.6908</td>\n",
       "    </tr>\n",
       "    <tr>\n",
       "      <th>3</th>\n",
       "      <td>0.114</td>\n",
       "      <td>0.478</td>\n",
       "      <td>0.408</td>\n",
       "      <td>0.9169</td>\n",
       "    </tr>\n",
       "    <tr>\n",
       "      <th>4</th>\n",
       "      <td>0.091</td>\n",
       "      <td>0.552</td>\n",
       "      <td>0.357</td>\n",
       "      <td>0.8020</td>\n",
       "    </tr>\n",
       "    <tr>\n",
       "      <th>...</th>\n",
       "      <td>...</td>\n",
       "      <td>...</td>\n",
       "      <td>...</td>\n",
       "      <td>...</td>\n",
       "    </tr>\n",
       "    <tr>\n",
       "      <th>1977</th>\n",
       "      <td>0.000</td>\n",
       "      <td>0.664</td>\n",
       "      <td>0.336</td>\n",
       "      <td>0.7269</td>\n",
       "    </tr>\n",
       "    <tr>\n",
       "      <th>1978</th>\n",
       "      <td>0.410</td>\n",
       "      <td>0.538</td>\n",
       "      <td>0.052</td>\n",
       "      <td>-0.9485</td>\n",
       "    </tr>\n",
       "    <tr>\n",
       "      <th>1979</th>\n",
       "      <td>0.023</td>\n",
       "      <td>0.786</td>\n",
       "      <td>0.191</td>\n",
       "      <td>0.8825</td>\n",
       "    </tr>\n",
       "    <tr>\n",
       "      <th>1980</th>\n",
       "      <td>0.066</td>\n",
       "      <td>0.747</td>\n",
       "      <td>0.187</td>\n",
       "      <td>0.4939</td>\n",
       "    </tr>\n",
       "    <tr>\n",
       "      <th>1981</th>\n",
       "      <td>0.000</td>\n",
       "      <td>0.504</td>\n",
       "      <td>0.496</td>\n",
       "      <td>0.8957</td>\n",
       "    </tr>\n",
       "  </tbody>\n",
       "</table>\n",
       "<p>1982 rows × 4 columns</p>\n",
       "</div>"
      ],
      "text/plain": [
       "        neg    neu    pos  compound\n",
       "0     0.045  0.824  0.131    0.4404\n",
       "1     0.109  0.442  0.449    0.9201\n",
       "2     0.174  0.826  0.000   -0.6908\n",
       "3     0.114  0.478  0.408    0.9169\n",
       "4     0.091  0.552  0.357    0.8020\n",
       "...     ...    ...    ...       ...\n",
       "1977  0.000  0.664  0.336    0.7269\n",
       "1978  0.410  0.538  0.052   -0.9485\n",
       "1979  0.023  0.786  0.191    0.8825\n",
       "1980  0.066  0.747  0.187    0.4939\n",
       "1981  0.000  0.504  0.496    0.8957\n",
       "\n",
       "[1982 rows x 4 columns]"
      ]
     },
     "execution_count": 61,
     "metadata": {},
     "output_type": "execute_result"
    }
   ],
   "source": [
    "sent_score_nlp_df = pd.DataFrame(sentiment)\n",
    "sent_score_nlp_df"
   ]
  },
  {
   "cell_type": "code",
   "execution_count": 62,
   "id": "fd7ae47d-6717-4a62-9890-fcfa96c6a185",
   "metadata": {},
   "outputs": [],
   "source": [
    "#Combine the dataframe and scores\n",
    "\n",
    "sent_combine = pd.concat([nlp_df, sent_score_nlp_df], axis=1)"
   ]
  },
  {
   "cell_type": "code",
   "execution_count": 63,
   "id": "a9d7028e-a92c-4207-b0a7-2be8f3bf97be",
   "metadata": {},
   "outputs": [
    {
     "name": "stderr",
     "output_type": "stream",
     "text": [
      "/var/folders/yz/m088r3hn2gs5k6lxmcvz8z440000gn/T/ipykernel_37074/28606389.py:8: SettingWithCopyWarning: \n",
      "A value is trying to be set on a copy of a slice from a DataFrame\n",
      "\n",
      "See the caveats in the documentation: https://pandas.pydata.org/pandas-docs/stable/user_guide/indexing.html#returning-a-view-versus-a-copy\n",
      "  sent_combine['overall'][index] = 'pos'\n",
      "/var/folders/yz/m088r3hn2gs5k6lxmcvz8z440000gn/T/ipykernel_37074/28606389.py:6: SettingWithCopyWarning: \n",
      "A value is trying to be set on a copy of a slice from a DataFrame\n",
      "\n",
      "See the caveats in the documentation: https://pandas.pydata.org/pandas-docs/stable/user_guide/indexing.html#returning-a-view-versus-a-copy\n",
      "  sent_combine['overall'][index] = 'neg'\n"
     ]
    }
   ],
   "source": [
    "#Create column 'overall' to get a rough understanding on the sentiments\n",
    "\n",
    "sent_combine['overall'] = 'neu'\n",
    "for index, row in enumerate(sent_combine['compound']):\n",
    "    if row <= -0.05:\n",
    "        sent_combine['overall'][index] = 'neg'\n",
    "    elif row >= 0.05:\n",
    "        sent_combine['overall'][index] = 'pos'"
   ]
  },
  {
   "cell_type": "code",
   "execution_count": 64,
   "id": "c5a11a23-23b0-4884-b25f-3d8485517af7",
   "metadata": {},
   "outputs": [
    {
     "data": {
      "text/html": [
       "<div>\n",
       "<style scoped>\n",
       "    .dataframe tbody tr th:only-of-type {\n",
       "        vertical-align: middle;\n",
       "    }\n",
       "\n",
       "    .dataframe tbody tr th {\n",
       "        vertical-align: top;\n",
       "    }\n",
       "\n",
       "    .dataframe thead th {\n",
       "        text-align: right;\n",
       "    }\n",
       "</style>\n",
       "<table border=\"1\" class=\"dataframe\">\n",
       "  <thead>\n",
       "    <tr style=\"text-align: right;\">\n",
       "      <th></th>\n",
       "      <th>subreddit</th>\n",
       "      <th>content</th>\n",
       "      <th>neg</th>\n",
       "      <th>neu</th>\n",
       "      <th>pos</th>\n",
       "      <th>compound</th>\n",
       "      <th>overall</th>\n",
       "    </tr>\n",
       "  </thead>\n",
       "  <tbody>\n",
       "    <tr>\n",
       "      <th>0</th>\n",
       "      <td>0</td>\n",
       "      <td>ankle swelling recently signed day pas local h...</td>\n",
       "      <td>0.045</td>\n",
       "      <td>0.824</td>\n",
       "      <td>0.131</td>\n",
       "      <td>0.4404</td>\n",
       "      <td>pos</td>\n",
       "    </tr>\n",
       "    <tr>\n",
       "      <th>1</th>\n",
       "      <td>0</td>\n",
       "      <td>cork mat better regular mat find get better wo...</td>\n",
       "      <td>0.109</td>\n",
       "      <td>0.442</td>\n",
       "      <td>0.449</td>\n",
       "      <td>0.9201</td>\n",
       "      <td>pos</td>\n",
       "    </tr>\n",
       "    <tr>\n",
       "      <th>2</th>\n",
       "      <td>0</td>\n",
       "      <td>found new studio moved henderson nv ago studio...</td>\n",
       "      <td>0.174</td>\n",
       "      <td>0.826</td>\n",
       "      <td>0.000</td>\n",
       "      <td>-0.6908</td>\n",
       "      <td>neg</td>\n",
       "    </tr>\n",
       "    <tr>\n",
       "      <th>3</th>\n",
       "      <td>0</td>\n",
       "      <td>started going class sure get kind post frequen...</td>\n",
       "      <td>0.114</td>\n",
       "      <td>0.478</td>\n",
       "      <td>0.408</td>\n",
       "      <td>0.9169</td>\n",
       "      <td>pos</td>\n",
       "    </tr>\n",
       "    <tr>\n",
       "      <th>4</th>\n",
       "      <td>0</td>\n",
       "      <td>long take get good struggling core strength mo...</td>\n",
       "      <td>0.091</td>\n",
       "      <td>0.552</td>\n",
       "      <td>0.357</td>\n",
       "      <td>0.8020</td>\n",
       "      <td>pos</td>\n",
       "    </tr>\n",
       "  </tbody>\n",
       "</table>\n",
       "</div>"
      ],
      "text/plain": [
       "   subreddit                                            content    neg    neu  \\\n",
       "0          0  ankle swelling recently signed day pas local h...  0.045  0.824   \n",
       "1          0  cork mat better regular mat find get better wo...  0.109  0.442   \n",
       "2          0  found new studio moved henderson nv ago studio...  0.174  0.826   \n",
       "3          0  started going class sure get kind post frequen...  0.114  0.478   \n",
       "4          0  long take get good struggling core strength mo...  0.091  0.552   \n",
       "\n",
       "     pos  compound overall  \n",
       "0  0.131    0.4404     pos  \n",
       "1  0.449    0.9201     pos  \n",
       "2  0.000   -0.6908     neg  \n",
       "3  0.408    0.9169     pos  \n",
       "4  0.357    0.8020     pos  "
      ]
     },
     "execution_count": 64,
     "metadata": {},
     "output_type": "execute_result"
    }
   ],
   "source": [
    "sent_combine.head()"
   ]
  },
  {
   "cell_type": "code",
   "execution_count": 65,
   "id": "59b9e93f-6257-4f81-a39a-f37e9e37a1bb",
   "metadata": {},
   "outputs": [
    {
     "data": {
      "text/html": [
       "<div>\n",
       "<style scoped>\n",
       "    .dataframe tbody tr th:only-of-type {\n",
       "        vertical-align: middle;\n",
       "    }\n",
       "\n",
       "    .dataframe tbody tr th {\n",
       "        vertical-align: top;\n",
       "    }\n",
       "\n",
       "    .dataframe thead th {\n",
       "        text-align: right;\n",
       "    }\n",
       "</style>\n",
       "<table border=\"1\" class=\"dataframe\">\n",
       "  <thead>\n",
       "    <tr style=\"text-align: right;\">\n",
       "      <th></th>\n",
       "      <th>neg</th>\n",
       "      <th>neu</th>\n",
       "      <th>pos</th>\n",
       "      <th>compound</th>\n",
       "    </tr>\n",
       "    <tr>\n",
       "      <th>subreddit</th>\n",
       "      <th></th>\n",
       "      <th></th>\n",
       "      <th></th>\n",
       "      <th></th>\n",
       "    </tr>\n",
       "  </thead>\n",
       "  <tbody>\n",
       "    <tr>\n",
       "      <th>0</th>\n",
       "      <td>0.087971</td>\n",
       "      <td>0.665544</td>\n",
       "      <td>0.246469</td>\n",
       "      <td>0.504423</td>\n",
       "    </tr>\n",
       "    <tr>\n",
       "      <th>1</th>\n",
       "      <td>0.068131</td>\n",
       "      <td>0.701679</td>\n",
       "      <td>0.230179</td>\n",
       "      <td>0.548795</td>\n",
       "    </tr>\n",
       "  </tbody>\n",
       "</table>\n",
       "</div>"
      ],
      "text/plain": [
       "                neg       neu       pos  compound\n",
       "subreddit                                        \n",
       "0          0.087971  0.665544  0.246469  0.504423\n",
       "1          0.068131  0.701679  0.230179  0.548795"
      ]
     },
     "execution_count": 65,
     "metadata": {},
     "output_type": "execute_result"
    }
   ],
   "source": [
    "#Getting mean of each sentiment for each subreddit\n",
    "\n",
    "sent_combine.groupby('subreddit').mean()"
   ]
  },
  {
   "cell_type": "code",
   "execution_count": 66,
   "id": "f2693f70-70c9-4bdc-a514-4e1c4e029f96",
   "metadata": {},
   "outputs": [
    {
     "data": {
      "text/plain": [
       "pos    79.310345\n",
       "neg    15.821501\n",
       "neu     4.868154\n",
       "Name: overall, dtype: float64"
      ]
     },
     "execution_count": 66,
     "metadata": {},
     "output_type": "execute_result"
    }
   ],
   "source": [
    "#Yoga's scores in terms of percentage\n",
    "\n",
    "yoga_sent = sent_combine[sent_combine.subreddit== 0]\n",
    "yoga_sent.overall.value_counts()*100/len(yoga_sent)"
   ]
  },
  {
   "cell_type": "code",
   "execution_count": 67,
   "id": "8ca5496d-a33f-4484-9387-76485fce6b3b",
   "metadata": {},
   "outputs": [
    {
     "data": {
      "text/plain": [
       "pos    81.024096\n",
       "neg    12.650602\n",
       "neu     6.325301\n",
       "Name: overall, dtype: float64"
      ]
     },
     "execution_count": 67,
     "metadata": {},
     "output_type": "execute_result"
    }
   ],
   "source": [
    "#Pilate's scores in terms of percentage\n",
    "\n",
    "pilates_sent = sent_combine[sent_combine.subreddit== 1]\n",
    "pilates_sent.overall.value_counts()*100/len(pilates_sent)"
   ]
  },
  {
   "cell_type": "code",
   "execution_count": 68,
   "id": "b7745c1a-864b-499b-b29e-6e6685f052f6",
   "metadata": {},
   "outputs": [
    {
     "data": {
      "image/png": "[encoded data removed]",
      "text/plain": [
       "<Figure size 432x288 with 1 Axes>"
      ]
     },
     "metadata": {
      "needs_background": "light"
     },
     "output_type": "display_data"
    }
   ],
   "source": [
    "#Plotting out yoga and pilates compound score\n",
    "\n",
    "sns.histplot(data=sent_combine, x='compound', hue='subreddit')\n",
    "plt.title('Distribution of Compound Score between Yoga (0) and Pilates (1)\\n');"
   ]
  },
  {
   "cell_type": "code",
   "execution_count": 69,
   "id": "e8328a58-8fc5-40ed-8b63-ecd95aa0cdca",
   "metadata": {},
   "outputs": [
    {
     "data": {
      "image/png": "[encoded data removed]",
      "text/plain": [
       "<Figure size 432x288 with 1 Axes>"
      ]
     },
     "metadata": {
      "needs_background": "light"
     },
     "output_type": "display_data"
    }
   ],
   "source": [
    "#Plotting out yoga and pilates negative score\n",
    "\n",
    "sns.histplot(data=sent_combine, x='neg', hue='subreddit')\n",
    "plt.title('Distribution of Negative Score between Yoga (0) and Pilates (1)\\n');"
   ]
  },
  {
   "cell_type": "code",
   "execution_count": 70,
   "id": "c090efd4-978d-4d97-895d-265e9d6a9529",
   "metadata": {},
   "outputs": [
    {
     "data": {
      "image/png": "[encoded data removed]",
      "text/plain": [
       "<Figure size 432x288 with 1 Axes>"
      ]
     },
     "metadata": {
      "needs_background": "light"
     },
     "output_type": "display_data"
    }
   ],
   "source": [
    "#Plotting out yoga and pilates positive score\n",
    "\n",
    "sns.histplot(data=sent_combine, x='pos', hue='subreddit')\n",
    "plt.title('Distribution of Positive Score between Yoga (0) and Pilates (1)\\n');"
   ]
  },
  {
   "cell_type": "code",
   "execution_count": 71,
   "id": "eca5d7b9-05ee-4dc3-aee3-6afa65a67b9e",
   "metadata": {},
   "outputs": [
    {
     "data": {
      "image/png": "[encoded data removed]",
      "text/plain": [
       "<Figure size 432x288 with 1 Axes>"
      ]
     },
     "metadata": {
      "needs_background": "light"
     },
     "output_type": "display_data"
    }
   ],
   "source": [
    "#Plotting out yoga and pilates neutral score\n",
    "\n",
    "sns.histplot(data=sent_combine, x='neu', hue='subreddit');\n",
    "plt.title('Distribution of Neutral Score between Yoga (0) and Pilates (1)\\n');"
   ]
  },
  {
   "cell_type": "markdown",
   "id": "640498dd-4a0e-4f36-8186-dcaeacb60444",
   "metadata": {},
   "source": [
    "| **Subreddit** | **Positive Sentiment** | **Neutral Sentiment** | **Negative Sentiment** |\n",
    "|---------------|------------------------|-----------------------|------------------------|\n",
    "| Yoga          | 79.31%                 | 4.87%                 | 15.82%                 |\n",
    "| Pilates       | 81.02%                 | 6.33%                 | 12.65%                 |"
   ]
  },
  {
   "cell_type": "markdown",
   "id": "56cf2e40-7fba-4c38-a5b5-fe8aff21c5c4",
   "metadata": {},
   "source": [
    "Yoga and pilates sentiments are pretty similar. Based on our findings from our dataset, pilates's positive sentiment was higher than yoga's positive sentiment by 2%. Pilate's negative sentiment is lower than yoga's negative sentiment by 2%.\n",
    "\n",
    "From this, we can see that the public's opinion and sentiment towards pilates are better than yoga. Hence, we are high likely able to increase pilates awareness."
   ]
  }
 ],
 "metadata": {
  "kernelspec": {
   "display_name": "Python 3 (ipykernel)",
   "language": "python",
   "name": "python3"
  },
  "language_info": {
   "codemirror_mode": {
    "name": "ipython",
    "version": 3
   },
   "file_extension": ".py",
   "mimetype": "text/x-python",
   "name": "python",
   "nbconvert_exporter": "python",
   "pygments_lexer": "ipython3",
   "version": "3.9.12"
  }
 },
 "nbformat": 4,
 "nbformat_minor": 5
}
