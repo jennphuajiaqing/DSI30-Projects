{
 "cells": [
  {
   "cell_type": "markdown",
   "id": "7ee7cac5-2fcb-4cd6-8e58-1b7be8df20c6",
   "metadata": {},
   "source": [
    "<img src=\"http://imgur.com/1ZcRyrc.png\" style=\"float: left; margin: 20px; height: 55px\">\n",
    "\n",
    "# Project 3 - Web APIs & NLP (Part 3)"
   ]
  },
  {
   "cell_type": "markdown",
   "id": "da6319cb-8557-485d-9c64-0e1b35cb2c5d",
   "metadata": {},
   "source": [
    "### Contents:\n",
    "- Modeling\n",
    "- Conclusion (Summary Table)\n",
    "- Business Recommendations\n",
    "- Further Analysis"
   ]
  },
  {
   "cell_type": "code",
   "execution_count": 1,
   "id": "0af656df-c4ed-4ba9-8db8-d63492840a92",
   "metadata": {},
   "outputs": [],
   "source": [
    "#Importing Libraries\n",
    "import pandas as pd\n",
    "import numpy as np\n",
    "import matplotlib.pyplot as plt\n",
    "import seaborn as sns\n",
    "\n",
    "# modeling\n",
    "from sklearn.model_selection import train_test_split, GridSearchCV\n",
    "from sklearn.feature_extraction.text import CountVectorizer, TfidfVectorizer\n",
    "from sklearn.pipeline import Pipeline\n",
    "from sklearn.linear_model import LogisticRegression\n",
    "from sklearn.naive_bayes import MultinomialNB\n",
    "from sklearn.ensemble import RandomForestClassifier\n",
    "from sklearn.metrics import confusion_matrix, plot_confusion_matrix, accuracy_score, recall_score, precision_score,f1_score, roc_auc_score, plot_roc_curve\n",
    "from sklearn import metrics"
   ]
  },
  {
   "cell_type": "code",
   "execution_count": 2,
   "id": "d910bd0c-ea43-492f-a238-c01dcd805f2a",
   "metadata": {},
   "outputs": [],
   "source": [
    "df = pd.read_csv('./final_nlp.csv')"
   ]
  },
  {
   "cell_type": "code",
   "execution_count": 3,
   "id": "892e5cb8-31b3-419d-beb8-24c68e9829b2",
   "metadata": {},
   "outputs": [
    {
     "data": {
      "text/html": [
       "<div>\n",
       "<style scoped>\n",
       "    .dataframe tbody tr th:only-of-type {\n",
       "        vertical-align: middle;\n",
       "    }\n",
       "\n",
       "    .dataframe tbody tr th {\n",
       "        vertical-align: top;\n",
       "    }\n",
       "\n",
       "    .dataframe thead th {\n",
       "        text-align: right;\n",
       "    }\n",
       "</style>\n",
       "<table border=\"1\" class=\"dataframe\">\n",
       "  <thead>\n",
       "    <tr style=\"text-align: right;\">\n",
       "      <th></th>\n",
       "      <th>subreddit</th>\n",
       "      <th>content</th>\n",
       "    </tr>\n",
       "  </thead>\n",
       "  <tbody>\n",
       "    <tr>\n",
       "      <th>0</th>\n",
       "      <td>0</td>\n",
       "      <td>ankle swelling recently signed day pas local h...</td>\n",
       "    </tr>\n",
       "    <tr>\n",
       "      <th>1</th>\n",
       "      <td>0</td>\n",
       "      <td>cork mat better regular mat find get better wo...</td>\n",
       "    </tr>\n",
       "    <tr>\n",
       "      <th>2</th>\n",
       "      <td>0</td>\n",
       "      <td>found new studio moved henderson nv ago studio...</td>\n",
       "    </tr>\n",
       "    <tr>\n",
       "      <th>3</th>\n",
       "      <td>0</td>\n",
       "      <td>started going class sure get kind post frequen...</td>\n",
       "    </tr>\n",
       "    <tr>\n",
       "      <th>4</th>\n",
       "      <td>0</td>\n",
       "      <td>long take get good struggling core strength mo...</td>\n",
       "    </tr>\n",
       "  </tbody>\n",
       "</table>\n",
       "</div>"
      ],
      "text/plain": [
       "   subreddit                                            content\n",
       "0          0  ankle swelling recently signed day pas local h...\n",
       "1          0  cork mat better regular mat find get better wo...\n",
       "2          0  found new studio moved henderson nv ago studio...\n",
       "3          0  started going class sure get kind post frequen...\n",
       "4          0  long take get good struggling core strength mo..."
      ]
     },
     "execution_count": 3,
     "metadata": {},
     "output_type": "execute_result"
    }
   ],
   "source": [
    "df.head()"
   ]
  },
  {
   "cell_type": "code",
   "execution_count": 4,
   "id": "893f9a40-212c-4852-8a8b-79e99d8f91ed",
   "metadata": {},
   "outputs": [
    {
     "name": "stdout",
     "output_type": "stream",
     "text": [
      "<class 'pandas.core.frame.DataFrame'>\n",
      "RangeIndex: 1982 entries, 0 to 1981\n",
      "Data columns (total 2 columns):\n",
      " #   Column     Non-Null Count  Dtype \n",
      "---  ------     --------------  ----- \n",
      " 0   subreddit  1982 non-null   int64 \n",
      " 1   content    1982 non-null   object\n",
      "dtypes: int64(1), object(1)\n",
      "memory usage: 31.1+ KB\n"
     ]
    }
   ],
   "source": [
    "df.info()"
   ]
  },
  {
   "cell_type": "code",
   "execution_count": 5,
   "id": "93051742-5f47-41f8-9dcf-d0d30c4e05b0",
   "metadata": {},
   "outputs": [
    {
     "data": {
      "text/plain": [
       "subreddit    0\n",
       "content      0\n",
       "dtype: int64"
      ]
     },
     "execution_count": 5,
     "metadata": {},
     "output_type": "execute_result"
    }
   ],
   "source": [
    "df.isnull().sum()"
   ]
  },
  {
   "cell_type": "code",
   "execution_count": 6,
   "id": "74a0606d-28b2-4209-b4d0-fddc48fef37b",
   "metadata": {},
   "outputs": [
    {
     "data": {
      "text/plain": [
       "subreddit     int64\n",
       "content      object\n",
       "dtype: object"
      ]
     },
     "execution_count": 6,
     "metadata": {},
     "output_type": "execute_result"
    }
   ],
   "source": [
    "df.dtypes"
   ]
  },
  {
   "cell_type": "markdown",
   "id": "6f912249-92f7-4dc7-8cd9-a140a9fd8f07",
   "metadata": {
    "tags": []
   },
   "source": [
    "### Modeling"
   ]
  },
  {
   "cell_type": "code",
   "execution_count": 7,
   "id": "0fa6c2bd-728a-49b0-a67a-5e9c66f7b9f4",
   "metadata": {},
   "outputs": [],
   "source": [
    "#Define Feature Matrix and Target Vector.\n",
    "\n",
    "y = df['subreddit']\n",
    "X = df['content']"
   ]
  },
  {
   "cell_type": "code",
   "execution_count": 8,
   "id": "dfdd84f9-59b3-44d2-83be-5c94820d6422",
   "metadata": {},
   "outputs": [],
   "source": [
    "#Create a function to print scores & best param \n",
    "#Based on model \n",
    "\n",
    "def print_score_param(model):\n",
    "    \n",
    "    print(\"======== All Score ========\")\n",
    "    #1.Best score\n",
    "    print(f\"Best Score: {model.best_score_}\")\n",
    "    \n",
    "    #2.Train score\n",
    "    print(f\"Train Score: {model.score(X_train, y_train)}\")\n",
    "    \n",
    "    #3.Test score\n",
    "    print(f\"Test Score: {model.score(X_test, y_test)}\\n\")\n",
    "    \n",
    "    print(\"======== Best Params ========\")\n",
    "    #4.Best params\n",
    "    for param, value in model.best_params_.items():\n",
    "        print(f'{param}: {value}')"
   ]
  },
  {
   "cell_type": "code",
   "execution_count": 9,
   "id": "65179fc8-539d-4c06-a897-b7e9c567d670",
   "metadata": {},
   "outputs": [],
   "source": [
    "#Create a function to print performance measures\n",
    "#Performance measures like Accuracy, Specificity, Sensitivity, Precision\n",
    "#Based on model\n",
    "\n",
    "def performance_measures(model, X_test, y_test):\n",
    "    #1.Prediction\n",
    "    preds = model.predict(X_test)\n",
    "    \n",
    "    #2.Confusion matrix\n",
    "    tn, fp, fn, tp = confusion_matrix(y_test, preds).ravel()\n",
    "    \n",
    "    #3.Plot confusion matrix\n",
    "    plot_confusion_matrix(model, X_test, y_test, cmap='Blues', \n",
    "                          values_format='d', display_labels=['yoga', 'pilates']);\n",
    "    \n",
    "    print(\"======== Performance ========\")\n",
    "    #4. Accuracy\n",
    "    #accuracy = (tn + tp) / (tn + fp + fn + tp) \n",
    "    accuracy = accuracy_score(y_test, preds)\n",
    "    print(f'Accuracy: {round(accuracy, 4)}')\n",
    "    \n",
    "    #5.Specificity\n",
    "    specificity = tn / (tn + fp)\n",
    "    print(f'Specificity: {round(specificity, 4)}')\n",
    "    \n",
    "    #6.Sensitivity\n",
    "    #sensitivity = tp / (tp + fn)\n",
    "    sensitivity = recall_score(y_test, preds)\n",
    "    print(f'Sensitivity: {round(sensitivity, 4)}')\n",
    "    \n",
    "    #7.Precision\n",
    "    # precision = tp / (tp + fp)\n",
    "    precision = precision_score(y_test, preds)\n",
    "    print(f'Precision: {round(precision, 4)}')\n",
    "    \n",
    "    #8.f1 score\n",
    "    #f1score = 2 * (precision*sensitivity) / (precision + sensitivity)\n",
    "    f1score = f1_score(y_test, preds)\n",
    "    print(f'F1 score: {round(f1score, 4)}')\n",
    "    \n",
    "    #9.roc_auc score\n",
    "    roc_auc = roc_auc_score(y_test, preds)\n",
    "    print(f'ROC AUC Score: {round(roc_auc, 4)}')"
   ]
  },
  {
   "cell_type": "markdown",
   "id": "02f5b038-2593-45bd-a384-751dc8331c22",
   "metadata": {},
   "source": [
    "#### Baseline Accuracy"
   ]
  },
  {
   "cell_type": "code",
   "execution_count": 10,
   "id": "14470a90-f8b7-4043-bba4-09efcb2995c0",
   "metadata": {},
   "outputs": [
    {
     "data": {
      "text/plain": [
       "1    0.502523\n",
       "0    0.497477\n",
       "Name: subreddit, dtype: float64"
      ]
     },
     "execution_count": 10,
     "metadata": {},
     "output_type": "execute_result"
    }
   ],
   "source": [
    "y.value_counts(normalize=True)"
   ]
  },
  {
   "cell_type": "code",
   "execution_count": 11,
   "id": "b03e7e63-cd79-4ec2-a32d-a6fc60614974",
   "metadata": {},
   "outputs": [],
   "source": [
    "#Split the data into the training and testing sets.\n",
    "X_train, X_test, y_train, y_test = train_test_split(X,\n",
    "                                                    y,\n",
    "                                                    random_state=42,\n",
    "                                                    stratify=y)"
   ]
  },
  {
   "cell_type": "code",
   "execution_count": 12,
   "id": "396327cf-f288-4826-b80d-029da5364a50",
   "metadata": {},
   "outputs": [],
   "source": [
    "#Instantiate a CountVectorizer with the default hyperparameters.\n",
    "cvec = CountVectorizer(analyzer = \"word\",\n",
    "                             max_features = 10_000,\n",
    "                            ngram_range=(1,2))"
   ]
  },
  {
   "cell_type": "code",
   "execution_count": 13,
   "id": "a0f1781c-e94e-472b-8f94-267bcdbcdce4",
   "metadata": {},
   "outputs": [
    {
     "data": {
      "text/plain": [
       "CountVectorizer(max_features=10000, ngram_range=(1, 2))"
      ]
     },
     "execution_count": 13,
     "metadata": {},
     "output_type": "execute_result"
    }
   ],
   "source": [
    "cvec.fit(X_train)"
   ]
  },
  {
   "cell_type": "code",
   "execution_count": 14,
   "id": "6c93684e-92d6-4667-937b-08dc9579636c",
   "metadata": {},
   "outputs": [],
   "source": [
    "#Transform\n",
    "X_train_cvec = cvec.transform(X_train)"
   ]
  },
  {
   "cell_type": "code",
   "execution_count": 15,
   "id": "166147e8-e91c-45a0-ac76-50e3628366e8",
   "metadata": {},
   "outputs": [
    {
     "data": {
      "text/plain": [
       "(1486, 10000)"
      ]
     },
     "execution_count": 15,
     "metadata": {},
     "output_type": "execute_result"
    }
   ],
   "source": [
    "X_train_cvec.shape"
   ]
  },
  {
   "cell_type": "markdown",
   "id": "57a92829-198a-4ea7-bb79-96705ceccca8",
   "metadata": {},
   "source": [
    "#### Model Pipeline - CountVectorizer & Logistic Regression"
   ]
  },
  {
   "cell_type": "markdown",
   "id": "6db833d6-5ef1-4a81-9f6b-b114979aaea3",
   "metadata": {},
   "source": [
    "Logistic regression estimates the probability of an event occurring, such as voted or didn’t vote, based on a given dataset of independent variables. Since the outcome is a probability, the dependent variable is bounded between 0 and 1. For binary classification, a probability less than 0.5 will predict 0 while a probability greater than 0 will predict 1."
   ]
  },
  {
   "cell_type": "code",
   "execution_count": 16,
   "id": "ef8f5655-a127-4495-9ec7-78479c3f2dfa",
   "metadata": {},
   "outputs": [],
   "source": [
    "#Let's set a pipeline up with two stages:\n",
    "#1. CountVectorizer (transformer)\n",
    "#2. Logistic Regression (estimator)\n",
    "\n",
    "pipe_cvec_lr = Pipeline([\n",
    "    ('cvec', CountVectorizer()),\n",
    "    ('lr', LogisticRegression())\n",
    "])"
   ]
  },
  {
   "cell_type": "code",
   "execution_count": 17,
   "id": "907a7ae3-034d-457f-b4b1-17b46fd6d2e7",
   "metadata": {},
   "outputs": [],
   "source": [
    "#Split the data into the training and testing sets.\n",
    "X_train, X_test, y_train, y_test = train_test_split(X,\n",
    "                                                    y,\n",
    "                                                    random_state=42,\n",
    "                                                    stratify=y)"
   ]
  },
  {
   "cell_type": "code",
   "execution_count": 18,
   "id": "87417f58-0ec2-4609-9627-f56635b6f9ba",
   "metadata": {},
   "outputs": [],
   "source": [
    "#Hyper parameters\n",
    "#Note that our shape from standard/default CountVectorizer is (1486, 10_000)\n",
    "pipe_cvec_lr_params = {\n",
    "    'cvec__max_features': [2_500, 5_000, 10_000], #only top n words from the dataset\n",
    "    'cvec__min_df': [2, 3, 4], # word must occur at least 2/4 from the dataset\n",
    "    'cvec__max_df': [.85, .9], #ignore words that occur \n",
    "    'cvec__ngram_range': [(1,1), (1,2)], #1-gram and 2-gram\n",
    "}"
   ]
  },
  {
   "cell_type": "code",
   "execution_count": 19,
   "id": "42d42d53-3baf-42a1-b808-7c422dbc5e98",
   "metadata": {},
   "outputs": [],
   "source": [
    "#Instantiate GridSearchCV.\n",
    "\n",
    "gs_cvec_lr = GridSearchCV(pipe_cvec_lr, #Object for optimizin\n",
    "                          param_grid=pipe_cvec_lr_params, #Parameters values to search\n",
    "                          cv=5, #5-fold cross-validation.\n",
    "                          n_jobs=-1) "
   ]
  },
  {
   "cell_type": "code",
   "execution_count": 20,
   "id": "84e9e019-ccf4-43ca-8978-3060862f0b86",
   "metadata": {},
   "outputs": [
    {
     "data": {
      "text/plain": [
       "GridSearchCV(cv=5,\n",
       "             estimator=Pipeline(steps=[('cvec', CountVectorizer()),\n",
       "                                       ('lr', LogisticRegression())]),\n",
       "             n_jobs=-1,\n",
       "             param_grid={'cvec__max_df': [0.85, 0.9],\n",
       "                         'cvec__max_features': [2500, 5000, 10000],\n",
       "                         'cvec__min_df': [2, 3, 4],\n",
       "                         'cvec__ngram_range': [(1, 1), (1, 2)]})"
      ]
     },
     "execution_count": 20,
     "metadata": {},
     "output_type": "execute_result"
    }
   ],
   "source": [
    "#Fit GridSearch to training data.\n",
    "gs_cvec_lr.fit(X_train, y_train)"
   ]
  },
  {
   "cell_type": "code",
   "execution_count": 21,
   "id": "9b909af7-3048-4f46-94e5-b152d6b98157",
   "metadata": {},
   "outputs": [
    {
     "name": "stdout",
     "output_type": "stream",
     "text": [
      "======== All Score ========\n",
      "Best Score: 0.8431948116511876\n",
      "Train Score: 0.9993270524899058\n",
      "Test Score: 0.8004032258064516\n",
      "\n",
      "======== Best Params ========\n",
      "cvec__max_df: 0.85\n",
      "cvec__max_features: 5000\n",
      "cvec__min_df: 3\n",
      "cvec__ngram_range: (1, 2)\n"
     ]
    }
   ],
   "source": [
    "#Print the scores and best param\n",
    "print_score_param(gs_cvec_lr)\n"
   ]
  },
  {
   "cell_type": "code",
   "execution_count": 22,
   "id": "1afc28d0-e211-4a55-b65e-71ae5577955e",
   "metadata": {},
   "outputs": [
    {
     "name": "stdout",
     "output_type": "stream",
     "text": [
      "======== Performance ========\n",
      "Accuracy: 0.8004\n",
      "Specificity: 0.7976\n",
      "Sensitivity: 0.8032\n",
      "Precision: 0.8\n",
      "F1 score: 0.8016\n",
      "ROC AUC Score: 0.8004\n"
     ]
    },
    {
     "name": "stderr",
     "output_type": "stream",
     "text": [
      "/Users/twangxh/opt/anaconda3/lib/python3.9/site-packages/sklearn/utils/deprecation.py:87: FutureWarning: Function plot_confusion_matrix is deprecated; Function `plot_confusion_matrix` is deprecated in 1.0 and will be removed in 1.2. Use one of the class methods: ConfusionMatrixDisplay.from_predictions or ConfusionMatrixDisplay.from_estimator.\n",
      "  warnings.warn(msg, category=FutureWarning)\n"
     ]
    },
    {
     "data": {
      "image/png": "[encoded data removed]",
      "text/plain": [
       "<Figure size 432x288 with 2 Axes>"
      ]
     },
     "metadata": {
      "needs_background": "light"
     },
     "output_type": "display_data"
    }
   ],
   "source": [
    "#Print the performance metrics\n",
    "performance_measures(gs_cvec_lr, X_test, y_test)"
   ]
  },
  {
   "cell_type": "code",
   "execution_count": 23,
   "id": "b3f09ac6-a132-470a-b4a7-b77b8a442f4c",
   "metadata": {},
   "outputs": [
    {
     "data": {
      "text/html": [
       "<div>\n",
       "<style scoped>\n",
       "    .dataframe tbody tr th:only-of-type {\n",
       "        vertical-align: middle;\n",
       "    }\n",
       "\n",
       "    .dataframe tbody tr th {\n",
       "        vertical-align: top;\n",
       "    }\n",
       "\n",
       "    .dataframe thead th {\n",
       "        text-align: right;\n",
       "    }\n",
       "</style>\n",
       "<table border=\"1\" class=\"dataframe\">\n",
       "  <thead>\n",
       "    <tr style=\"text-align: right;\">\n",
       "      <th></th>\n",
       "      <th>true_values</th>\n",
       "      <th>pred_probs</th>\n",
       "    </tr>\n",
       "  </thead>\n",
       "  <tbody>\n",
       "    <tr>\n",
       "      <th>1060</th>\n",
       "      <td>1</td>\n",
       "      <td>0.992381</td>\n",
       "    </tr>\n",
       "    <tr>\n",
       "      <th>460</th>\n",
       "      <td>0</td>\n",
       "      <td>0.202956</td>\n",
       "    </tr>\n",
       "    <tr>\n",
       "      <th>1128</th>\n",
       "      <td>1</td>\n",
       "      <td>0.905845</td>\n",
       "    </tr>\n",
       "    <tr>\n",
       "      <th>1102</th>\n",
       "      <td>1</td>\n",
       "      <td>0.992395</td>\n",
       "    </tr>\n",
       "    <tr>\n",
       "      <th>683</th>\n",
       "      <td>0</td>\n",
       "      <td>0.358011</td>\n",
       "    </tr>\n",
       "  </tbody>\n",
       "</table>\n",
       "</div>"
      ],
      "text/plain": [
       "      true_values  pred_probs\n",
       "1060            1    0.992381\n",
       "460             0    0.202956\n",
       "1128            1    0.905845\n",
       "1102            1    0.992395\n",
       "683             0    0.358011"
      ]
     },
     "execution_count": 23,
     "metadata": {},
     "output_type": "execute_result"
    }
   ],
   "source": [
    "#Let's create a dataframe called pred_df that contains:\n",
    "#1. The list of true values of our test set.\n",
    "#2. The list of predicted probabilities based on the model.\n",
    "\n",
    "pred_cvec_lr = pd.DataFrame({'true_values': y_test,\n",
    "                        'pred_probs': gs_cvec_lr.predict_proba(X_test)[:,1]})\n",
    "\n",
    "pred_cvec_lr.head()"
   ]
  },
  {
   "cell_type": "code",
   "execution_count": 24,
   "id": "b516a60a-0908-4912-82cc-88ec7574687a",
   "metadata": {},
   "outputs": [
    {
     "name": "stderr",
     "output_type": "stream",
     "text": [
      "/Users/twangxh/opt/anaconda3/lib/python3.9/site-packages/seaborn/distributions.py:2619: FutureWarning: `distplot` is a deprecated function and will be removed in a future version. Please adapt your code to use either `displot` (a figure-level function with similar flexibility) or `histplot` (an axes-level function for histograms).\n",
      "  warnings.warn(msg, FutureWarning)\n"
     ]
    },
    {
     "data": {
      "image/png": "[encoded data removed]",
      "text/plain": [
       "<Figure size 864x360 with 1 Axes>"
      ]
     },
     "metadata": {
      "needs_background": "light"
     },
     "output_type": "display_data"
    }
   ],
   "source": [
    "plt.figure(figsize = (12, 5))\n",
    "\n",
    "#plot distributions of predicted probabilities by actual values\n",
    "for group in pred_cvec_lr.groupby('true_values'):\n",
    "    sns.distplot(group[1], kde = False, bins = 20, label = f'Actual Outcome = {group[0]}')\n",
    "\n",
    "plt.xlabel('Predicted Probability that Outcome = 1')\n",
    "plt.legend();"
   ]
  },
  {
   "cell_type": "code",
   "execution_count": 25,
   "id": "bc1816d5-0f40-4108-9076-f8f2b9f2e78f",
   "metadata": {},
   "outputs": [
    {
     "name": "stderr",
     "output_type": "stream",
     "text": [
      "/Users/twangxh/opt/anaconda3/lib/python3.9/site-packages/sklearn/utils/deprecation.py:87: FutureWarning: Function plot_roc_curve is deprecated; Function :func:`plot_roc_curve` is deprecated in 1.0 and will be removed in 1.2. Use one of the class methods: :meth:`sklearn.metric.RocCurveDisplay.from_predictions` or :meth:`sklearn.metric.RocCurveDisplay.from_estimator`.\n",
      "  warnings.warn(msg, category=FutureWarning)\n"
     ]
    },
    {
     "data": {
      "image/png": "[encoded data removed]",
      "text/plain": [
       "<Figure size 432x288 with 1 Axes>"
      ]
     },
     "metadata": {
      "needs_background": "light"
     },
     "output_type": "display_data"
    }
   ],
   "source": [
    "plot_roc_curve(gs_cvec_lr, X_test, y_test)\n",
    "plt.plot([0, 1], [0, 1],\n",
    "         label='baseline', linestyle='--')\n",
    "plt.legend();"
   ]
  },
  {
   "cell_type": "code",
   "execution_count": 26,
   "id": "c169a9c8-53dd-43c3-9c5b-6c1f2d15b210",
   "metadata": {},
   "outputs": [
    {
     "data": {
      "text/plain": [
       "0.8911922995626229"
      ]
     },
     "execution_count": 26,
     "metadata": {},
     "output_type": "execute_result"
    }
   ],
   "source": [
    "roc_auc_score(y_test, gs_cvec_lr.predict_proba(X_test)[:,1])"
   ]
  },
  {
   "cell_type": "markdown",
   "id": "b6b2a517-d275-42c0-bcbb-0210d65ff99c",
   "metadata": {},
   "source": [
    "#### Model Pipeline - TfidfVectorizer & Logistic Regression"
   ]
  },
  {
   "cell_type": "code",
   "execution_count": 27,
   "id": "82167024-4e3f-48e2-ad4f-7e7341bfdf0f",
   "metadata": {},
   "outputs": [],
   "source": [
    "#Let's set a pipeline up with two stages:\n",
    "#1. TfidfVectorizer (transformer)\n",
    "#2. Logistic Regression (estimator)\n",
    "pipe_tvec_lr = Pipeline([\n",
    "    ('tvec', TfidfVectorizer()),\n",
    "    ('lr', LogisticRegression())\n",
    "])"
   ]
  },
  {
   "cell_type": "code",
   "execution_count": 28,
   "id": "78ff2382-7895-4a6b-896f-7b3042b266d2",
   "metadata": {},
   "outputs": [],
   "source": [
    "# Redefine training and testing sets.\n",
    "X_train, X_test, y_train, y_test = train_test_split(X,\n",
    "                                                    y,\n",
    "                                                    random_state=42,\n",
    "                                                    stratify = y)"
   ]
  },
  {
   "cell_type": "code",
   "execution_count": 29,
   "id": "e6fd3d0f-3ba4-47ee-81e5-456ce40ed055",
   "metadata": {},
   "outputs": [],
   "source": [
    "pipe_tvec_lr_params = {\n",
    "    'tvec__max_features': [2_500, 5_000, 10_000], \n",
    "    'tvec__min_df': [2, 3, 4], \n",
    "    'tvec__max_df': [.8, .85, .9], \n",
    "    'tvec__ngram_range': [(1,1), (1,2), (2,2)] \n",
    "}"
   ]
  },
  {
   "cell_type": "code",
   "execution_count": 30,
   "id": "05d2f23d-2389-47c8-8974-a80fed2b4a5e",
   "metadata": {},
   "outputs": [],
   "source": [
    "#Instantiate GridSearchCV.\n",
    "gs_tvec_lr = GridSearchCV(pipe_tvec_lr,\n",
    "                         param_grid = pipe_tvec_lr_params,\n",
    "                         cv=5,\n",
    "                         n_jobs=-1)"
   ]
  },
  {
   "cell_type": "code",
   "execution_count": 31,
   "id": "86ba339f-4dc8-4bbb-9d2a-a3c2ea0da7e9",
   "metadata": {},
   "outputs": [
    {
     "data": {
      "text/plain": [
       "GridSearchCV(cv=5,\n",
       "             estimator=Pipeline(steps=[('tvec', TfidfVectorizer()),\n",
       "                                       ('lr', LogisticRegression())]),\n",
       "             n_jobs=-1,\n",
       "             param_grid={'tvec__max_df': [0.8, 0.85, 0.9],\n",
       "                         'tvec__max_features': [2500, 5000, 10000],\n",
       "                         'tvec__min_df': [2, 3, 4],\n",
       "                         'tvec__ngram_range': [(1, 1), (1, 2), (2, 2)]})"
      ]
     },
     "execution_count": 31,
     "metadata": {},
     "output_type": "execute_result"
    }
   ],
   "source": [
    "#Fit GridSearch to training data.\n",
    "gs_tvec_lr.fit(X_train, y_train)"
   ]
  },
  {
   "cell_type": "code",
   "execution_count": 32,
   "id": "30920ce2-4492-40df-bde1-3e56c96ff348",
   "metadata": {},
   "outputs": [
    {
     "name": "stdout",
     "output_type": "stream",
     "text": [
      "======== All Score ========\n",
      "Best Score: 0.8674281969583981\n",
      "Train Score: 0.9549125168236877\n",
      "Test Score: 0.8346774193548387\n",
      "\n",
      "======== Best Params ========\n",
      "tvec__max_df: 0.8\n",
      "tvec__max_features: 2500\n",
      "tvec__min_df: 3\n",
      "tvec__ngram_range: (1, 2)\n"
     ]
    }
   ],
   "source": [
    "#Print the scores and best param\n",
    "print_score_param(gs_tvec_lr)"
   ]
  },
  {
   "cell_type": "code",
   "execution_count": 33,
   "id": "1d23d85b-7eb3-45e7-85ee-7a3f39871dfa",
   "metadata": {},
   "outputs": [
    {
     "name": "stdout",
     "output_type": "stream",
     "text": [
      "======== Performance ========\n",
      "Accuracy: 0.8347\n",
      "Specificity: 0.8502\n",
      "Sensitivity: 0.8193\n",
      "Precision: 0.8465\n",
      "F1 score: 0.8327\n",
      "ROC AUC Score: 0.8347\n"
     ]
    },
    {
     "name": "stderr",
     "output_type": "stream",
     "text": [
      "/Users/twangxh/opt/anaconda3/lib/python3.9/site-packages/sklearn/utils/deprecation.py:87: FutureWarning: Function plot_confusion_matrix is deprecated; Function `plot_confusion_matrix` is deprecated in 1.0 and will be removed in 1.2. Use one of the class methods: ConfusionMatrixDisplay.from_predictions or ConfusionMatrixDisplay.from_estimator.\n",
      "  warnings.warn(msg, category=FutureWarning)\n"
     ]
    },
    {
     "data": {
      "image/png": "[encoded data removed]",
      "text/plain": [
       "<Figure size 432x288 with 2 Axes>"
      ]
     },
     "metadata": {
      "needs_background": "light"
     },
     "output_type": "display_data"
    }
   ],
   "source": [
    "#Print the performance metrics\n",
    "performance_measures(gs_tvec_lr, X_test, y_test)"
   ]
  },
  {
   "cell_type": "code",
   "execution_count": 34,
   "id": "c176d4e1-539f-4cec-915b-e9ed82e357c5",
   "metadata": {},
   "outputs": [
    {
     "data": {
      "text/html": [
       "<div>\n",
       "<style scoped>\n",
       "    .dataframe tbody tr th:only-of-type {\n",
       "        vertical-align: middle;\n",
       "    }\n",
       "\n",
       "    .dataframe tbody tr th {\n",
       "        vertical-align: top;\n",
       "    }\n",
       "\n",
       "    .dataframe thead th {\n",
       "        text-align: right;\n",
       "    }\n",
       "</style>\n",
       "<table border=\"1\" class=\"dataframe\">\n",
       "  <thead>\n",
       "    <tr style=\"text-align: right;\">\n",
       "      <th></th>\n",
       "      <th>true_values</th>\n",
       "      <th>pred_probs</th>\n",
       "    </tr>\n",
       "  </thead>\n",
       "  <tbody>\n",
       "    <tr>\n",
       "      <th>1060</th>\n",
       "      <td>1</td>\n",
       "      <td>0.748895</td>\n",
       "    </tr>\n",
       "    <tr>\n",
       "      <th>460</th>\n",
       "      <td>0</td>\n",
       "      <td>0.393595</td>\n",
       "    </tr>\n",
       "    <tr>\n",
       "      <th>1128</th>\n",
       "      <td>1</td>\n",
       "      <td>0.706460</td>\n",
       "    </tr>\n",
       "    <tr>\n",
       "      <th>1102</th>\n",
       "      <td>1</td>\n",
       "      <td>0.760568</td>\n",
       "    </tr>\n",
       "    <tr>\n",
       "      <th>683</th>\n",
       "      <td>0</td>\n",
       "      <td>0.362776</td>\n",
       "    </tr>\n",
       "  </tbody>\n",
       "</table>\n",
       "</div>"
      ],
      "text/plain": [
       "      true_values  pred_probs\n",
       "1060            1    0.748895\n",
       "460             0    0.393595\n",
       "1128            1    0.706460\n",
       "1102            1    0.760568\n",
       "683             0    0.362776"
      ]
     },
     "execution_count": 34,
     "metadata": {},
     "output_type": "execute_result"
    }
   ],
   "source": [
    "#Let's create a dataframe called pred_df that contains:\n",
    "#1. The list of true values of our test set.\n",
    "#2. The list of predicted probabilities based on the model.\n",
    "\n",
    "pred_tvec_lr = pd.DataFrame({'true_values': y_test,\n",
    "                        'pred_probs': gs_tvec_lr.predict_proba(X_test)[:,1]})\n",
    "\n",
    "pred_tvec_lr.head()"
   ]
  },
  {
   "cell_type": "code",
   "execution_count": 35,
   "id": "61ab52d6-4c61-4b86-adcd-c287c559c8f9",
   "metadata": {},
   "outputs": [
    {
     "name": "stderr",
     "output_type": "stream",
     "text": [
      "/Users/twangxh/opt/anaconda3/lib/python3.9/site-packages/seaborn/distributions.py:2619: FutureWarning: `distplot` is a deprecated function and will be removed in a future version. Please adapt your code to use either `displot` (a figure-level function with similar flexibility) or `histplot` (an axes-level function for histograms).\n",
      "  warnings.warn(msg, FutureWarning)\n"
     ]
    },
    {
     "data": {
      "image/png": "[encoded data removed]",
      "text/plain": [
       "<Figure size 864x360 with 1 Axes>"
      ]
     },
     "metadata": {
      "needs_background": "light"
     },
     "output_type": "display_data"
    }
   ],
   "source": [
    "plt.figure(figsize = (12, 5))\n",
    "\n",
    "#Plot distributions of predicted probabilities by actual values\n",
    "for group in pred_tvec_lr.groupby('true_values'):\n",
    "    sns.distplot(group[1], kde = False, bins = 20, label = f'Actual Outcome = {group[0]}')\n",
    "\n",
    "plt.xlabel('Predicted Probability that Outcome = 1')\n",
    "plt.legend();"
   ]
  },
  {
   "cell_type": "code",
   "execution_count": 36,
   "id": "1794cbf1-9790-4d93-88ee-945707f5ddaf",
   "metadata": {},
   "outputs": [
    {
     "name": "stderr",
     "output_type": "stream",
     "text": [
      "/Users/twangxh/opt/anaconda3/lib/python3.9/site-packages/sklearn/utils/deprecation.py:87: FutureWarning: Function plot_roc_curve is deprecated; Function :func:`plot_roc_curve` is deprecated in 1.0 and will be removed in 1.2. Use one of the class methods: :meth:`sklearn.metric.RocCurveDisplay.from_predictions` or :meth:`sklearn.metric.RocCurveDisplay.from_estimator`.\n",
      "  warnings.warn(msg, category=FutureWarning)\n"
     ]
    },
    {
     "data": {
      "image/png": "[encoded data removed]",
      "text/plain": [
       "<Figure size 432x288 with 1 Axes>"
      ]
     },
     "metadata": {
      "needs_background": "light"
     },
     "output_type": "display_data"
    }
   ],
   "source": [
    "plot_roc_curve(gs_tvec_lr, X_test, y_test)\n",
    "plt.plot([0, 1], [0, 1],\n",
    "         label='baseline', linestyle='--')\n",
    "plt.legend();"
   ]
  },
  {
   "cell_type": "code",
   "execution_count": 37,
   "id": "2c9942f0-01cb-4639-b26a-cd6c19dfc621",
   "metadata": {},
   "outputs": [
    {
     "data": {
      "text/plain": [
       "0.9229793668601531"
      ]
     },
     "execution_count": 37,
     "metadata": {},
     "output_type": "execute_result"
    }
   ],
   "source": [
    "roc_auc_score(y_test, gs_tvec_lr.predict_proba(X_test)[:,1])"
   ]
  },
  {
   "cell_type": "markdown",
   "id": "acaa6594-255b-406e-a186-e0ffab07d083",
   "metadata": {},
   "source": [
    "#### Model Pipeline - CountVectorizer & Multinomial Naive Bayes"
   ]
  },
  {
   "cell_type": "markdown",
   "id": "ed8ffb28-defa-40d7-9edb-314a0e6172ff",
   "metadata": {},
   "source": [
    "The Multinomial Naive Bayes algorithm guesses the tag of a text, such as an email or a newspaper story, using the Bayes theorem. It calculates each tag's likelihood for a given sample and outputs the tag with the greatest chance. Naive Bayes classifier is made up of features that are unrelated to any other features."
   ]
  },
  {
   "cell_type": "code",
   "execution_count": 38,
   "id": "30a705ba-2596-42b9-9165-4ce046c200b8",
   "metadata": {},
   "outputs": [],
   "source": [
    "#Let's set a pipeline up with two stages:\n",
    "#1. CountVectorizer (transformer)\n",
    "#2. Multinomial Naive Bayes (estimator)\n",
    "\n",
    "pipe_cvec_nb = Pipeline([\n",
    "    ('cvec', CountVectorizer()),\n",
    "    ('nb', MultinomialNB())\n",
    "])"
   ]
  },
  {
   "cell_type": "code",
   "execution_count": 39,
   "id": "33b1b7a3-c62c-4732-969f-be5274cb73bd",
   "metadata": {},
   "outputs": [],
   "source": [
    "#Split the data into the training and testing sets.\n",
    "X_train, X_test, y_train, y_test = train_test_split(X,\n",
    "                                                    y,\n",
    "                                                    random_state=42,\n",
    "                                                    stratify=y)"
   ]
  },
  {
   "cell_type": "code",
   "execution_count": 40,
   "id": "7b19e37c-c8da-40f2-bc13-00ccd71b430d",
   "metadata": {},
   "outputs": [],
   "source": [
    "# Hyper parameters\n",
    "#Note that our shape from standard/default CountVectorizer is (1486, 10_000)\n",
    "pipe_cvec_nb_params = {\n",
    "    'cvec__max_features': [2_500, 5_000, 10_000], \n",
    "    'cvec__min_df': [2, 3], \n",
    "    'cvec__max_df': [.85, .9], \n",
    "    'cvec__ngram_range': [(1,1), (1,2)], \n",
    "}"
   ]
  },
  {
   "cell_type": "code",
   "execution_count": 41,
   "id": "f0edff39-785c-46f7-9028-3dd192c66e07",
   "metadata": {},
   "outputs": [],
   "source": [
    "#Instantiate GridSearchCV.\n",
    "\n",
    "gs_cvec_nb = GridSearchCV(pipe_cvec_nb, \n",
    "                          param_grid=pipe_cvec_nb_params, \n",
    "                          cv=5,\n",
    "                          n_jobs=-1) "
   ]
  },
  {
   "cell_type": "code",
   "execution_count": 42,
   "id": "e5a9efb7-8e31-4530-ac8d-df532773e091",
   "metadata": {},
   "outputs": [
    {
     "data": {
      "text/plain": [
       "GridSearchCV(cv=5,\n",
       "             estimator=Pipeline(steps=[('cvec', CountVectorizer()),\n",
       "                                       ('nb', MultinomialNB())]),\n",
       "             n_jobs=-1,\n",
       "             param_grid={'cvec__max_df': [0.85, 0.9],\n",
       "                         'cvec__max_features': [2500, 5000, 10000],\n",
       "                         'cvec__min_df': [2, 3],\n",
       "                         'cvec__ngram_range': [(1, 1), (1, 2)]})"
      ]
     },
     "execution_count": 42,
     "metadata": {},
     "output_type": "execute_result"
    }
   ],
   "source": [
    "#Fit GridSearch to training data.\n",
    "gs_cvec_nb.fit(X_train, y_train)"
   ]
  },
  {
   "cell_type": "code",
   "execution_count": 43,
   "id": "b53a6e47-a161-4156-ad52-e10e7a426e20",
   "metadata": {},
   "outputs": [
    {
     "name": "stdout",
     "output_type": "stream",
     "text": [
      "======== All Score ========\n",
      "Best Score: 0.855987164711997\n",
      "Train Score: 0.9279946164199192\n",
      "Test Score: 0.8487903225806451\n",
      "\n",
      "======== Best Params ========\n",
      "cvec__max_df: 0.85\n",
      "cvec__max_features: 2500\n",
      "cvec__min_df: 3\n",
      "cvec__ngram_range: (1, 2)\n"
     ]
    }
   ],
   "source": [
    "#Print the scores and best param\n",
    "print_score_param(gs_cvec_nb)"
   ]
  },
  {
   "cell_type": "code",
   "execution_count": 44,
   "id": "69840bad-207e-49bb-bafb-2c80d4da8b1c",
   "metadata": {},
   "outputs": [
    {
     "name": "stdout",
     "output_type": "stream",
     "text": [
      "======== Performance ========\n",
      "Accuracy: 0.8488\n",
      "Specificity: 0.8381\n",
      "Sensitivity: 0.8594\n",
      "Precision: 0.8425\n",
      "F1 score: 0.8509\n",
      "ROC AUC Score: 0.8487\n"
     ]
    },
    {
     "name": "stderr",
     "output_type": "stream",
     "text": [
      "/Users/twangxh/opt/anaconda3/lib/python3.9/site-packages/sklearn/utils/deprecation.py:87: FutureWarning: Function plot_confusion_matrix is deprecated; Function `plot_confusion_matrix` is deprecated in 1.0 and will be removed in 1.2. Use one of the class methods: ConfusionMatrixDisplay.from_predictions or ConfusionMatrixDisplay.from_estimator.\n",
      "  warnings.warn(msg, category=FutureWarning)\n"
     ]
    },
    {
     "data": {
      "image/png": "[encoded data removed]",
      "text/plain": [
       "<Figure size 432x288 with 2 Axes>"
      ]
     },
     "metadata": {
      "needs_background": "light"
     },
     "output_type": "display_data"
    }
   ],
   "source": [
    "#Print the performance metrics\n",
    "performance_measures(gs_cvec_nb, X_test, y_test)"
   ]
  },
  {
   "cell_type": "code",
   "execution_count": 45,
   "id": "69cf1707-63cc-48bc-afa0-38a43bbcaf65",
   "metadata": {},
   "outputs": [
    {
     "data": {
      "text/html": [
       "<div>\n",
       "<style scoped>\n",
       "    .dataframe tbody tr th:only-of-type {\n",
       "        vertical-align: middle;\n",
       "    }\n",
       "\n",
       "    .dataframe tbody tr th {\n",
       "        vertical-align: top;\n",
       "    }\n",
       "\n",
       "    .dataframe thead th {\n",
       "        text-align: right;\n",
       "    }\n",
       "</style>\n",
       "<table border=\"1\" class=\"dataframe\">\n",
       "  <thead>\n",
       "    <tr style=\"text-align: right;\">\n",
       "      <th></th>\n",
       "      <th>true_values</th>\n",
       "      <th>pred_probs</th>\n",
       "    </tr>\n",
       "  </thead>\n",
       "  <tbody>\n",
       "    <tr>\n",
       "      <th>1060</th>\n",
       "      <td>1</td>\n",
       "      <td>1.000000</td>\n",
       "    </tr>\n",
       "    <tr>\n",
       "      <th>460</th>\n",
       "      <td>0</td>\n",
       "      <td>0.039695</td>\n",
       "    </tr>\n",
       "    <tr>\n",
       "      <th>1128</th>\n",
       "      <td>1</td>\n",
       "      <td>0.999976</td>\n",
       "    </tr>\n",
       "    <tr>\n",
       "      <th>1102</th>\n",
       "      <td>1</td>\n",
       "      <td>0.999998</td>\n",
       "    </tr>\n",
       "    <tr>\n",
       "      <th>683</th>\n",
       "      <td>0</td>\n",
       "      <td>0.027282</td>\n",
       "    </tr>\n",
       "  </tbody>\n",
       "</table>\n",
       "</div>"
      ],
      "text/plain": [
       "      true_values  pred_probs\n",
       "1060            1    1.000000\n",
       "460             0    0.039695\n",
       "1128            1    0.999976\n",
       "1102            1    0.999998\n",
       "683             0    0.027282"
      ]
     },
     "execution_count": 45,
     "metadata": {},
     "output_type": "execute_result"
    }
   ],
   "source": [
    "#Let's create a dataframe called pred_df that contains:\n",
    "#1. The list of true values of our test set.\n",
    "#2. The list of predicted probabilities based on the model.\n",
    "\n",
    "pred_cvec_nb = pd.DataFrame({'true_values': y_test,\n",
    "                        'pred_probs': gs_cvec_nb.predict_proba(X_test)[:,1]})\n",
    "\n",
    "pred_cvec_nb.head()"
   ]
  },
  {
   "cell_type": "code",
   "execution_count": 46,
   "id": "002fbf6e-3032-42ec-98a5-7ec779751344",
   "metadata": {},
   "outputs": [
    {
     "name": "stderr",
     "output_type": "stream",
     "text": [
      "/Users/twangxh/opt/anaconda3/lib/python3.9/site-packages/seaborn/distributions.py:2619: FutureWarning: `distplot` is a deprecated function and will be removed in a future version. Please adapt your code to use either `displot` (a figure-level function with similar flexibility) or `histplot` (an axes-level function for histograms).\n",
      "  warnings.warn(msg, FutureWarning)\n"
     ]
    },
    {
     "data": {
      "image/png": "[encoded data removed]",
      "text/plain": [
       "<Figure size 864x360 with 1 Axes>"
      ]
     },
     "metadata": {
      "needs_background": "light"
     },
     "output_type": "display_data"
    }
   ],
   "source": [
    "plt.figure(figsize = (12, 5))\n",
    "\n",
    "#Plot distributions of predicted probabilities by actual values\n",
    "for group in pred_cvec_nb.groupby('true_values'):\n",
    "    sns.distplot(group[1], kde = False, bins = 20, label = f'Actual Outcome = {group[0]}')\n",
    "\n",
    "plt.xlabel('Predicted Probability that Outcome = 1')\n",
    "plt.legend();"
   ]
  },
  {
   "cell_type": "code",
   "execution_count": 47,
   "id": "8a51ee8e-b454-47cd-96a1-3eda17a21a9a",
   "metadata": {},
   "outputs": [
    {
     "name": "stderr",
     "output_type": "stream",
     "text": [
      "/Users/twangxh/opt/anaconda3/lib/python3.9/site-packages/sklearn/utils/deprecation.py:87: FutureWarning: Function plot_roc_curve is deprecated; Function :func:`plot_roc_curve` is deprecated in 1.0 and will be removed in 1.2. Use one of the class methods: :meth:`sklearn.metric.RocCurveDisplay.from_predictions` or :meth:`sklearn.metric.RocCurveDisplay.from_estimator`.\n",
      "  warnings.warn(msg, category=FutureWarning)\n"
     ]
    },
    {
     "data": {
      "image/png": "[encoded data removed]",
      "text/plain": [
       "<Figure size 432x288 with 1 Axes>"
      ]
     },
     "metadata": {
      "needs_background": "light"
     },
     "output_type": "display_data"
    }
   ],
   "source": [
    "plot_roc_curve(gs_cvec_nb, X_test, y_test)\n",
    "plt.plot([0, 1], [0, 1],\n",
    "         label='baseline', linestyle='--')\n",
    "plt.legend();"
   ]
  },
  {
   "cell_type": "code",
   "execution_count": 48,
   "id": "8e5be25a-cbe8-492e-83a2-e365b213c196",
   "metadata": {},
   "outputs": [
    {
     "data": {
      "text/plain": [
       "0.9335479570102271"
      ]
     },
     "execution_count": 48,
     "metadata": {},
     "output_type": "execute_result"
    }
   ],
   "source": [
    "roc_auc_score(y_test, gs_cvec_nb.predict_proba(X_test)[:,1])"
   ]
  },
  {
   "cell_type": "markdown",
   "id": "76e22092-9c8e-45b8-9a0d-f2a43d4dab94",
   "metadata": {},
   "source": [
    "#### Model Pipeline - TfidfVectorizer & Multinomial Naive Bayes"
   ]
  },
  {
   "cell_type": "code",
   "execution_count": 49,
   "id": "4c869f9a-c164-4e0a-8218-c5b0b21dcf5b",
   "metadata": {},
   "outputs": [],
   "source": [
    "#Let's set a pipeline up with two stages:\n",
    "#1. TfidfVectorizer (transformer)\n",
    "#2. Multinomial Naive Bayes (estimator)\n",
    "pipe_tvec_nb = Pipeline([\n",
    "    ('tvec', TfidfVectorizer()),\n",
    "    ('nb', MultinomialNB())\n",
    "])"
   ]
  },
  {
   "cell_type": "code",
   "execution_count": 50,
   "id": "e8c6ac49-c518-4563-acb4-1858ed777f1d",
   "metadata": {},
   "outputs": [],
   "source": [
    "#Redefine training and testing sets.\n",
    "X_train, X_test, y_train, y_test = train_test_split(X,\n",
    "                                                    y,\n",
    "                                                    random_state=42,\n",
    "                                                    stratify = y)"
   ]
  },
  {
   "cell_type": "code",
   "execution_count": 51,
   "id": "c0e3b006-38c8-44cb-bb0c-9c16ff920a81",
   "metadata": {},
   "outputs": [],
   "source": [
    "pipe_tvec_nb_params = {\n",
    "    'tvec__max_features': [2_500, 5_000, 10_000], \n",
    "    'tvec__min_df': [2, 3, 4], \n",
    "    'tvec__max_df': [.8, .85, .9], \n",
    "    'tvec__ngram_range': [(1,1), (1,2), (2,2)] \n",
    "}"
   ]
  },
  {
   "cell_type": "code",
   "execution_count": 52,
   "id": "47bde16c-89c0-488e-b835-3b75b07bb253",
   "metadata": {},
   "outputs": [],
   "source": [
    "#Instantiate GridSearchCV.\n",
    "gs_tvec_nb = GridSearchCV(pipe_tvec_nb, \n",
    "                         param_grid = pipe_tvec_nb_params, \n",
    "                         cv=5,\n",
    "                         n_jobs=-1)"
   ]
  },
  {
   "cell_type": "code",
   "execution_count": 53,
   "id": "9ec57855-40cd-4546-9df0-3e53caccc102",
   "metadata": {},
   "outputs": [
    {
     "data": {
      "text/plain": [
       "GridSearchCV(cv=5,\n",
       "             estimator=Pipeline(steps=[('tvec', TfidfVectorizer()),\n",
       "                                       ('nb', MultinomialNB())]),\n",
       "             n_jobs=-1,\n",
       "             param_grid={'tvec__max_df': [0.8, 0.85, 0.9],\n",
       "                         'tvec__max_features': [2500, 5000, 10000],\n",
       "                         'tvec__min_df': [2, 3, 4],\n",
       "                         'tvec__ngram_range': [(1, 1), (1, 2), (2, 2)]})"
      ]
     },
     "execution_count": 53,
     "metadata": {},
     "output_type": "execute_result"
    }
   ],
   "source": [
    "#Fit GridSearch to training data.\n",
    "gs_tvec_nb.fit(X_train, y_train)"
   ]
  },
  {
   "cell_type": "code",
   "execution_count": 54,
   "id": "5aa53484-f33d-4481-930a-b9a6060cdacc",
   "metadata": {},
   "outputs": [
    {
     "name": "stdout",
     "output_type": "stream",
     "text": [
      "======== All Score ========\n",
      "Best Score: 0.858683027139403\n",
      "Train Score: 0.9407806191117093\n",
      "Test Score: 0.8387096774193549\n",
      "\n",
      "======== Best Params ========\n",
      "tvec__max_df: 0.8\n",
      "tvec__max_features: 2500\n",
      "tvec__min_df: 3\n",
      "tvec__ngram_range: (1, 2)\n"
     ]
    }
   ],
   "source": [
    "#Print the scores and best param\n",
    "print_score_param(gs_tvec_nb)"
   ]
  },
  {
   "cell_type": "code",
   "execution_count": 55,
   "id": "61784af8-68fd-4cfe-939a-8aca90719f0c",
   "metadata": {},
   "outputs": [
    {
     "name": "stdout",
     "output_type": "stream",
     "text": [
      "======== Performance ========\n",
      "Accuracy: 0.8387\n",
      "Specificity: 0.8259\n",
      "Sensitivity: 0.8514\n",
      "Precision: 0.8314\n",
      "F1 score: 0.8413\n",
      "ROC AUC Score: 0.8387\n"
     ]
    },
    {
     "name": "stderr",
     "output_type": "stream",
     "text": [
      "/Users/twangxh/opt/anaconda3/lib/python3.9/site-packages/sklearn/utils/deprecation.py:87: FutureWarning: Function plot_confusion_matrix is deprecated; Function `plot_confusion_matrix` is deprecated in 1.0 and will be removed in 1.2. Use one of the class methods: ConfusionMatrixDisplay.from_predictions or ConfusionMatrixDisplay.from_estimator.\n",
      "  warnings.warn(msg, category=FutureWarning)\n"
     ]
    },
    {
     "data": {
      "image/png": "[encoded data removed]",
      "text/plain": [
       "<Figure size 432x288 with 2 Axes>"
      ]
     },
     "metadata": {
      "needs_background": "light"
     },
     "output_type": "display_data"
    }
   ],
   "source": [
    "#Print the performance metrics\n",
    "performance_measures(gs_tvec_nb, X_test, y_test)"
   ]
  },
  {
   "cell_type": "code",
   "execution_count": 56,
   "id": "035799da-c571-4880-86f3-d3a6b03df2f9",
   "metadata": {},
   "outputs": [
    {
     "data": {
      "text/html": [
       "<div>\n",
       "<style scoped>\n",
       "    .dataframe tbody tr th:only-of-type {\n",
       "        vertical-align: middle;\n",
       "    }\n",
       "\n",
       "    .dataframe tbody tr th {\n",
       "        vertical-align: top;\n",
       "    }\n",
       "\n",
       "    .dataframe thead th {\n",
       "        text-align: right;\n",
       "    }\n",
       "</style>\n",
       "<table border=\"1\" class=\"dataframe\">\n",
       "  <thead>\n",
       "    <tr style=\"text-align: right;\">\n",
       "      <th></th>\n",
       "      <th>true_values</th>\n",
       "      <th>pred_probs</th>\n",
       "    </tr>\n",
       "  </thead>\n",
       "  <tbody>\n",
       "    <tr>\n",
       "      <th>1060</th>\n",
       "      <td>1</td>\n",
       "      <td>0.821326</td>\n",
       "    </tr>\n",
       "    <tr>\n",
       "      <th>460</th>\n",
       "      <td>0</td>\n",
       "      <td>0.411298</td>\n",
       "    </tr>\n",
       "    <tr>\n",
       "      <th>1128</th>\n",
       "      <td>1</td>\n",
       "      <td>0.802990</td>\n",
       "    </tr>\n",
       "    <tr>\n",
       "      <th>1102</th>\n",
       "      <td>1</td>\n",
       "      <td>0.804062</td>\n",
       "    </tr>\n",
       "    <tr>\n",
       "      <th>683</th>\n",
       "      <td>0</td>\n",
       "      <td>0.368635</td>\n",
       "    </tr>\n",
       "  </tbody>\n",
       "</table>\n",
       "</div>"
      ],
      "text/plain": [
       "      true_values  pred_probs\n",
       "1060            1    0.821326\n",
       "460             0    0.411298\n",
       "1128            1    0.802990\n",
       "1102            1    0.804062\n",
       "683             0    0.368635"
      ]
     },
     "execution_count": 56,
     "metadata": {},
     "output_type": "execute_result"
    }
   ],
   "source": [
    "#Let's create a dataframe called pred_df that contains:\n",
    "#1. The list of true values of our test set.\n",
    "#2. The list of predicted probabilities based on the model.\n",
    "\n",
    "pred_tvec_nb = pd.DataFrame({'true_values': y_test,\n",
    "                        'pred_probs': gs_tvec_nb.predict_proba(X_test)[:,1]})\n",
    "\n",
    "pred_tvec_nb.head()"
   ]
  },
  {
   "cell_type": "code",
   "execution_count": 57,
   "id": "6f6db2ea-8d9e-48ac-81be-a8ef4b73741d",
   "metadata": {},
   "outputs": [
    {
     "name": "stderr",
     "output_type": "stream",
     "text": [
      "/Users/twangxh/opt/anaconda3/lib/python3.9/site-packages/seaborn/distributions.py:2619: FutureWarning: `distplot` is a deprecated function and will be removed in a future version. Please adapt your code to use either `displot` (a figure-level function with similar flexibility) or `histplot` (an axes-level function for histograms).\n",
      "  warnings.warn(msg, FutureWarning)\n"
     ]
    },
    {
     "data": {
      "image/png": "[encoded data removed]",
      "text/plain": [
       "<Figure size 864x360 with 1 Axes>"
      ]
     },
     "metadata": {
      "needs_background": "light"
     },
     "output_type": "display_data"
    }
   ],
   "source": [
    "plt.figure(figsize = (12, 5))\n",
    "\n",
    "#Plot distributions of predicted probabilities by actual values\n",
    "for group in pred_tvec_nb.groupby('true_values'):\n",
    "    sns.distplot(group[1], kde = False, bins = 20, label = f'Actual Outcome = {group[0]}')\n",
    "\n",
    "plt.xlabel('Predicted Probability that Outcome = 1')\n",
    "plt.legend();"
   ]
  },
  {
   "cell_type": "code",
   "execution_count": 58,
   "id": "45cea2d8-f122-4a25-a1cb-091a3c5013d9",
   "metadata": {},
   "outputs": [
    {
     "name": "stderr",
     "output_type": "stream",
     "text": [
      "/Users/twangxh/opt/anaconda3/lib/python3.9/site-packages/sklearn/utils/deprecation.py:87: FutureWarning: Function plot_roc_curve is deprecated; Function :func:`plot_roc_curve` is deprecated in 1.0 and will be removed in 1.2. Use one of the class methods: :meth:`sklearn.metric.RocCurveDisplay.from_predictions` or :meth:`sklearn.metric.RocCurveDisplay.from_estimator`.\n",
      "  warnings.warn(msg, category=FutureWarning)\n"
     ]
    },
    {
     "data": {
      "image/png": "[encoded data removed]",
      "text/plain": [
       "<Figure size 432x288 with 1 Axes>"
      ]
     },
     "metadata": {
      "needs_background": "light"
     },
     "output_type": "display_data"
    }
   ],
   "source": [
    "plot_roc_curve(gs_tvec_nb, X_test, y_test)\n",
    "plt.plot([0, 1], [0, 1],\n",
    "         label='baseline', linestyle='--')\n",
    "plt.legend();"
   ]
  },
  {
   "cell_type": "code",
   "execution_count": 59,
   "id": "b98d2f9e-be9e-4990-8126-98e7b0eaace3",
   "metadata": {},
   "outputs": [
    {
     "data": {
      "text/plain": [
       "0.9305887517682064"
      ]
     },
     "execution_count": 59,
     "metadata": {},
     "output_type": "execute_result"
    }
   ],
   "source": [
    "roc_auc_score(y_test, gs_tvec_nb.predict_proba(X_test)[:,1])"
   ]
  },
  {
   "cell_type": "markdown",
   "id": "f14b6d7a-8e1e-4fe7-b99b-dd5da6c06b3d",
   "metadata": {},
   "source": [
    "#### Model Pipeline - CountVectorizer & Random Forest"
   ]
  },
  {
   "cell_type": "markdown",
   "id": "6bc5540d-ef09-4d26-ac4d-81f46103e143",
   "metadata": {},
   "source": [
    "A random forest algorithm consists of many decision trees. The (random forest) algorithm establishes the outcome based on the predictions of the decision trees. It predicts by taking the average or mean of the output from various trees. Increasing the number of trees increases the precision of the outcome. A random forest eradicates the limitations of a decision tree algorithm. It reduces the overfitting of datasets and increases precision."
   ]
  },
  {
   "cell_type": "code",
   "execution_count": 60,
   "id": "82275ed3-e8b5-4c95-9b68-61060833f41c",
   "metadata": {},
   "outputs": [],
   "source": [
    "#Let's set a pipeline up with two stages:\n",
    "#1. CountVectorizer (transformer)\n",
    "#2. Random Forest (estimator)\n",
    "\n",
    "pipe_cvec_rf = Pipeline([\n",
    "    ('cvec', CountVectorizer()),\n",
    "    ('rf', RandomForestClassifier(random_state = 42))\n",
    "])"
   ]
  },
  {
   "cell_type": "code",
   "execution_count": 61,
   "id": "7abe907f-4f15-4a38-81d2-8488bd546698",
   "metadata": {},
   "outputs": [],
   "source": [
    "#Hyper parameters\n",
    "#Note that our shape from standard/default CountVectorizer is (1486, 50_000)\n",
    "pipe_cvec_rf_params = {\n",
    "    'rf__n_estimators': [100, 150, 200], #\n",
    "    \"rf__max_depth\": [None, 1, 2, 3, 4, 5],\n",
    "    \"rf__min_samples_split\": [2, 5],\n",
    "    \"rf__min_samples_leaf\": [1, 2, 4]\n",
    "}"
   ]
  },
  {
   "cell_type": "code",
   "execution_count": 62,
   "id": "c1439862-9dbc-4762-9bb1-551fa0872c74",
   "metadata": {},
   "outputs": [],
   "source": [
    "#Split the data into the training and testing sets.\n",
    "X_train, X_test, y_train, y_test = train_test_split(X,\n",
    "                                                    y,\n",
    "                                                    random_state=42,\n",
    "                                                    stratify=y)"
   ]
  },
  {
   "cell_type": "code",
   "execution_count": 63,
   "id": "05cde5ae-8130-4cf6-b56f-9e2f38502f4b",
   "metadata": {},
   "outputs": [],
   "source": [
    "#Instantiate GridSearchCV.\n",
    "\n",
    "gs_cvec_rf = GridSearchCV(pipe_cvec_rf, # object for optimizin\n",
    "                          param_grid=pipe_cvec_rf_params, # parameters values to search\n",
    "                          cv=5,# 5-fold cross-validation.\n",
    "                          n_jobs=-1) "
   ]
  },
  {
   "cell_type": "code",
   "execution_count": 64,
   "id": "da76c9e2-29b8-49de-8cac-cc9b9847b247",
   "metadata": {},
   "outputs": [
    {
     "data": {
      "text/plain": [
       "GridSearchCV(cv=5,\n",
       "             estimator=Pipeline(steps=[('cvec', CountVectorizer()),\n",
       "                                       ('rf',\n",
       "                                        RandomForestClassifier(random_state=42))]),\n",
       "             n_jobs=-1,\n",
       "             param_grid={'rf__max_depth': [None, 1, 2, 3, 4, 5],\n",
       "                         'rf__min_samples_leaf': [1, 2, 4],\n",
       "                         'rf__min_samples_split': [2, 5],\n",
       "                         'rf__n_estimators': [100, 150, 200]})"
      ]
     },
     "execution_count": 64,
     "metadata": {},
     "output_type": "execute_result"
    }
   ],
   "source": [
    "#Fit GridSearch to training data.\n",
    "gs_cvec_rf.fit(X_train, y_train)"
   ]
  },
  {
   "cell_type": "code",
   "execution_count": 65,
   "id": "7a335bf9-fbee-4336-b4ad-6b892894f6cb",
   "metadata": {},
   "outputs": [
    {
     "name": "stdout",
     "output_type": "stream",
     "text": [
      "======== All Score ========\n",
      "Best Score: 0.848582017038393\n",
      "Train Score: 0.9784656796769852\n",
      "Test Score: 0.8245967741935484\n",
      "\n",
      "======== Best Params ========\n",
      "rf__max_depth: None\n",
      "rf__min_samples_leaf: 2\n",
      "rf__min_samples_split: 5\n",
      "rf__n_estimators: 150\n"
     ]
    }
   ],
   "source": [
    "#Print the scores and best param\n",
    "print_score_param(gs_cvec_rf)"
   ]
  },
  {
   "cell_type": "code",
   "execution_count": 66,
   "id": "bdcbc6fb-2942-4ca6-ad02-73c2f5c54274",
   "metadata": {},
   "outputs": [
    {
     "name": "stdout",
     "output_type": "stream",
     "text": [
      "======== Performance ========\n",
      "Accuracy: 0.8246\n",
      "Specificity: 0.834\n",
      "Sensitivity: 0.8153\n",
      "Precision: 0.832\n",
      "F1 score: 0.8235\n",
      "ROC AUC Score: 0.8246\n"
     ]
    },
    {
     "name": "stderr",
     "output_type": "stream",
     "text": [
      "/Users/twangxh/opt/anaconda3/lib/python3.9/site-packages/sklearn/utils/deprecation.py:87: FutureWarning: Function plot_confusion_matrix is deprecated; Function `plot_confusion_matrix` is deprecated in 1.0 and will be removed in 1.2. Use one of the class methods: ConfusionMatrixDisplay.from_predictions or ConfusionMatrixDisplay.from_estimator.\n",
      "  warnings.warn(msg, category=FutureWarning)\n"
     ]
    },
    {
     "data": {
      "image/png": "[encoded data removed]",
      "text/plain": [
       "<Figure size 432x288 with 2 Axes>"
      ]
     },
     "metadata": {
      "needs_background": "light"
     },
     "output_type": "display_data"
    }
   ],
   "source": [
    "#Print the performance metrics\n",
    "performance_measures(gs_cvec_rf, X_test, y_test)"
   ]
  },
  {
   "cell_type": "code",
   "execution_count": 67,
   "id": "abc0c285-9fa8-4a5a-972a-a1a999028333",
   "metadata": {},
   "outputs": [
    {
     "data": {
      "text/html": [
       "<div>\n",
       "<style scoped>\n",
       "    .dataframe tbody tr th:only-of-type {\n",
       "        vertical-align: middle;\n",
       "    }\n",
       "\n",
       "    .dataframe tbody tr th {\n",
       "        vertical-align: top;\n",
       "    }\n",
       "\n",
       "    .dataframe thead th {\n",
       "        text-align: right;\n",
       "    }\n",
       "</style>\n",
       "<table border=\"1\" class=\"dataframe\">\n",
       "  <thead>\n",
       "    <tr style=\"text-align: right;\">\n",
       "      <th></th>\n",
       "      <th>true_values</th>\n",
       "      <th>pred_probs</th>\n",
       "    </tr>\n",
       "  </thead>\n",
       "  <tbody>\n",
       "    <tr>\n",
       "      <th>1060</th>\n",
       "      <td>1</td>\n",
       "      <td>0.711456</td>\n",
       "    </tr>\n",
       "    <tr>\n",
       "      <th>460</th>\n",
       "      <td>0</td>\n",
       "      <td>0.459974</td>\n",
       "    </tr>\n",
       "    <tr>\n",
       "      <th>1128</th>\n",
       "      <td>1</td>\n",
       "      <td>0.659388</td>\n",
       "    </tr>\n",
       "    <tr>\n",
       "      <th>1102</th>\n",
       "      <td>1</td>\n",
       "      <td>0.658874</td>\n",
       "    </tr>\n",
       "    <tr>\n",
       "      <th>683</th>\n",
       "      <td>0</td>\n",
       "      <td>0.377696</td>\n",
       "    </tr>\n",
       "  </tbody>\n",
       "</table>\n",
       "</div>"
      ],
      "text/plain": [
       "      true_values  pred_probs\n",
       "1060            1    0.711456\n",
       "460             0    0.459974\n",
       "1128            1    0.659388\n",
       "1102            1    0.658874\n",
       "683             0    0.377696"
      ]
     },
     "execution_count": 67,
     "metadata": {},
     "output_type": "execute_result"
    }
   ],
   "source": [
    "#Let's create a dataframe called pred_df that contains:\n",
    "#1. The list of true values of our test set.\n",
    "#2. The list of predicted probabilities based on the model.\n",
    "\n",
    "pred_cvec_rf = pd.DataFrame({'true_values': y_test,\n",
    "                        'pred_probs': gs_cvec_rf.predict_proba(X_test)[:,1]})\n",
    "\n",
    "pred_cvec_rf.head()"
   ]
  },
  {
   "cell_type": "code",
   "execution_count": 68,
   "id": "d6fbd9fc-af7a-441e-8d49-7b727707333a",
   "metadata": {},
   "outputs": [
    {
     "name": "stderr",
     "output_type": "stream",
     "text": [
      "/Users/twangxh/opt/anaconda3/lib/python3.9/site-packages/seaborn/distributions.py:2619: FutureWarning: `distplot` is a deprecated function and will be removed in a future version. Please adapt your code to use either `displot` (a figure-level function with similar flexibility) or `histplot` (an axes-level function for histograms).\n",
      "  warnings.warn(msg, FutureWarning)\n"
     ]
    },
    {
     "data": {
      "image/png": "[encoded data removed]",
      "text/plain": [
       "<Figure size 864x360 with 1 Axes>"
      ]
     },
     "metadata": {
      "needs_background": "light"
     },
     "output_type": "display_data"
    }
   ],
   "source": [
    "plt.figure(figsize = (12, 5))\n",
    "\n",
    "#Plot distributions of predicted probabilities by actual values\n",
    "for group in pred_cvec_rf.groupby('true_values'):\n",
    "    sns.distplot(group[1], kde = False, bins = 20, label = f'Actual Outcome = {group[0]}')\n",
    "\n",
    "plt.xlabel('Predicted Probability that Outcome = 1')\n",
    "plt.legend();"
   ]
  },
  {
   "cell_type": "code",
   "execution_count": 69,
   "id": "e272b795-8058-4694-9a17-ba7c77a9f37f",
   "metadata": {},
   "outputs": [
    {
     "name": "stderr",
     "output_type": "stream",
     "text": [
      "/Users/twangxh/opt/anaconda3/lib/python3.9/site-packages/sklearn/utils/deprecation.py:87: FutureWarning: Function plot_roc_curve is deprecated; Function :func:`plot_roc_curve` is deprecated in 1.0 and will be removed in 1.2. Use one of the class methods: :meth:`sklearn.metric.RocCurveDisplay.from_predictions` or :meth:`sklearn.metric.RocCurveDisplay.from_estimator`.\n",
      "  warnings.warn(msg, category=FutureWarning)\n"
     ]
    },
    {
     "data": {
      "image/png": "[encoded data removed]",
      "text/plain": [
       "<Figure size 432x288 with 1 Axes>"
      ]
     },
     "metadata": {
      "needs_background": "light"
     },
     "output_type": "display_data"
    }
   ],
   "source": [
    "plot_roc_curve(gs_cvec_rf, X_test, y_test)\n",
    "plt.plot([0, 1], [0, 1],\n",
    "         label='baseline', linestyle='--')\n",
    "plt.legend();"
   ]
  },
  {
   "cell_type": "code",
   "execution_count": 70,
   "id": "41c3e0f5-6586-469a-b0ae-fc396ed8c788",
   "metadata": {},
   "outputs": [
    {
     "data": {
      "text/plain": [
       "0.9158252442970262"
      ]
     },
     "execution_count": 70,
     "metadata": {},
     "output_type": "execute_result"
    }
   ],
   "source": [
    "roc_auc_score(y_test, gs_cvec_rf.predict_proba(X_test)[:,1])"
   ]
  },
  {
   "cell_type": "markdown",
   "id": "9f1903fd-e43a-41d0-86aa-c10619bc28ad",
   "metadata": {},
   "source": [
    "#### Model Pipeline - TfidfVectorizer & Random Forest"
   ]
  },
  {
   "cell_type": "code",
   "execution_count": 71,
   "id": "2cf0aa20-bbdd-483d-9187-d45fcae0be79",
   "metadata": {},
   "outputs": [],
   "source": [
    "#Let's set a pipeline up with two stages:\n",
    "#1. TfidfVectorizer (transformer)\n",
    "#2. Random Forest (estimator)\n",
    "pipe_tvec_rf = Pipeline([\n",
    "    ('tvec', TfidfVectorizer()),\n",
    "    ('rf', RandomForestClassifier(random_state = 42))\n",
    "])"
   ]
  },
  {
   "cell_type": "code",
   "execution_count": 72,
   "id": "22cae383-029c-4bd4-af30-7b9b786d28f4",
   "metadata": {},
   "outputs": [],
   "source": [
    "#Hyper parameters\n",
    "pipe_tvec_rf_params = {\n",
    "    'rf__n_estimators': [100, 150, 200], \n",
    "    \"rf__max_depth\": [None, 1, 2, 3, 4, 5],\n",
    "    \"rf__min_samples_split\": [2, 5],\n",
    "    \"rf__min_samples_leaf\": [1, 2, 4]\n",
    "}"
   ]
  },
  {
   "cell_type": "code",
   "execution_count": 73,
   "id": "12b2fa1a-3240-46da-b147-a7068db0f30f",
   "metadata": {},
   "outputs": [],
   "source": [
    "#Split the data into the training and testing sets.\n",
    "X_train, X_test, y_train, y_test = train_test_split(X,\n",
    "                                                    y,\n",
    "                                                    random_state=42,\n",
    "                                                    stratify=y)"
   ]
  },
  {
   "cell_type": "code",
   "execution_count": 74,
   "id": "7729573a-c6bf-4247-a783-65bddd21b6ce",
   "metadata": {},
   "outputs": [],
   "source": [
    "#Instantiate GridSearchCV.\n",
    "gs_tvec_rf = GridSearchCV(pipe_tvec_rf, \n",
    "                         param_grid = pipe_tvec_rf_params, \n",
    "                         cv=5,\n",
    "                         n_jobs=-1)"
   ]
  },
  {
   "cell_type": "code",
   "execution_count": 75,
   "id": "3547d724-413e-4dd3-baff-1cfbab5667d0",
   "metadata": {},
   "outputs": [
    {
     "data": {
      "text/plain": [
       "GridSearchCV(cv=5,\n",
       "             estimator=Pipeline(steps=[('tvec', TfidfVectorizer()),\n",
       "                                       ('rf',\n",
       "                                        RandomForestClassifier(random_state=42))]),\n",
       "             n_jobs=-1,\n",
       "             param_grid={'rf__max_depth': [None, 1, 2, 3, 4, 5],\n",
       "                         'rf__min_samples_leaf': [1, 2, 4],\n",
       "                         'rf__min_samples_split': [2, 5],\n",
       "                         'rf__n_estimators': [100, 150, 200]})"
      ]
     },
     "execution_count": 75,
     "metadata": {},
     "output_type": "execute_result"
    }
   ],
   "source": [
    "#Fit GridSearch to training data.\n",
    "gs_tvec_rf.fit(X_train, y_train)"
   ]
  },
  {
   "cell_type": "code",
   "execution_count": 76,
   "id": "3caf3c98-e3aa-4ae6-944d-e2be67a5a0a5",
   "metadata": {},
   "outputs": [
    {
     "name": "stdout",
     "output_type": "stream",
     "text": [
      "======== All Score ========\n",
      "Best Score: 0.8378211646668022\n",
      "Train Score: 0.9549125168236877\n",
      "Test Score: 0.8104838709677419\n",
      "\n",
      "======== Best Params ========\n",
      "rf__max_depth: None\n",
      "rf__min_samples_leaf: 4\n",
      "rf__min_samples_split: 2\n",
      "rf__n_estimators: 200\n"
     ]
    }
   ],
   "source": [
    "#Print the scores and best param\n",
    "print_score_param(gs_tvec_rf)"
   ]
  },
  {
   "cell_type": "code",
   "execution_count": 77,
   "id": "34fb6176-aad7-4f8d-bae4-4dcca0ae1c9f",
   "metadata": {},
   "outputs": [
    {
     "name": "stdout",
     "output_type": "stream",
     "text": [
      "======== Performance ========\n",
      "Accuracy: 0.8105\n",
      "Specificity: 0.8097\n",
      "Sensitivity: 0.8112\n",
      "Precision: 0.8112\n",
      "F1 score: 0.8112\n",
      "ROC AUC Score: 0.8105\n"
     ]
    },
    {
     "name": "stderr",
     "output_type": "stream",
     "text": [
      "/Users/twangxh/opt/anaconda3/lib/python3.9/site-packages/sklearn/utils/deprecation.py:87: FutureWarning: Function plot_confusion_matrix is deprecated; Function `plot_confusion_matrix` is deprecated in 1.0 and will be removed in 1.2. Use one of the class methods: ConfusionMatrixDisplay.from_predictions or ConfusionMatrixDisplay.from_estimator.\n",
      "  warnings.warn(msg, category=FutureWarning)\n"
     ]
    },
    {
     "data": {
      "image/png": "[encoded data removed]",
      "text/plain": [
       "<Figure size 432x288 with 2 Axes>"
      ]
     },
     "metadata": {
      "needs_background": "light"
     },
     "output_type": "display_data"
    }
   ],
   "source": [
    "#Print the performance metrics\n",
    "performance_measures(gs_tvec_rf, X_test, y_test)"
   ]
  },
  {
   "cell_type": "code",
   "execution_count": 78,
   "id": "e805060e-030c-4efa-b39c-27eeb2f6b26e",
   "metadata": {},
   "outputs": [
    {
     "data": {
      "text/html": [
       "<div>\n",
       "<style scoped>\n",
       "    .dataframe tbody tr th:only-of-type {\n",
       "        vertical-align: middle;\n",
       "    }\n",
       "\n",
       "    .dataframe tbody tr th {\n",
       "        vertical-align: top;\n",
       "    }\n",
       "\n",
       "    .dataframe thead th {\n",
       "        text-align: right;\n",
       "    }\n",
       "</style>\n",
       "<table border=\"1\" class=\"dataframe\">\n",
       "  <thead>\n",
       "    <tr style=\"text-align: right;\">\n",
       "      <th></th>\n",
       "      <th>true_values</th>\n",
       "      <th>pred_probs</th>\n",
       "    </tr>\n",
       "  </thead>\n",
       "  <tbody>\n",
       "    <tr>\n",
       "      <th>1060</th>\n",
       "      <td>1</td>\n",
       "      <td>0.681199</td>\n",
       "    </tr>\n",
       "    <tr>\n",
       "      <th>460</th>\n",
       "      <td>0</td>\n",
       "      <td>0.433201</td>\n",
       "    </tr>\n",
       "    <tr>\n",
       "      <th>1128</th>\n",
       "      <td>1</td>\n",
       "      <td>0.641168</td>\n",
       "    </tr>\n",
       "    <tr>\n",
       "      <th>1102</th>\n",
       "      <td>1</td>\n",
       "      <td>0.631740</td>\n",
       "    </tr>\n",
       "    <tr>\n",
       "      <th>683</th>\n",
       "      <td>0</td>\n",
       "      <td>0.415726</td>\n",
       "    </tr>\n",
       "  </tbody>\n",
       "</table>\n",
       "</div>"
      ],
      "text/plain": [
       "      true_values  pred_probs\n",
       "1060            1    0.681199\n",
       "460             0    0.433201\n",
       "1128            1    0.641168\n",
       "1102            1    0.631740\n",
       "683             0    0.415726"
      ]
     },
     "execution_count": 78,
     "metadata": {},
     "output_type": "execute_result"
    }
   ],
   "source": [
    "#Let's create a dataframe called pred_df that contains:\n",
    "#1. The list of true values of our test set.\n",
    "#2. The list of predicted probabilities based on the model.\n",
    "\n",
    "pred_tvec_rf = pd.DataFrame({'true_values': y_test,\n",
    "                        'pred_probs': gs_tvec_rf.predict_proba(X_test)[:,1]})\n",
    "\n",
    "pred_tvec_rf.head()"
   ]
  },
  {
   "cell_type": "code",
   "execution_count": 79,
   "id": "ab0048f1-beac-4db4-8e33-a3dbabd5f468",
   "metadata": {},
   "outputs": [
    {
     "name": "stderr",
     "output_type": "stream",
     "text": [
      "/Users/twangxh/opt/anaconda3/lib/python3.9/site-packages/seaborn/distributions.py:2619: FutureWarning: `distplot` is a deprecated function and will be removed in a future version. Please adapt your code to use either `displot` (a figure-level function with similar flexibility) or `histplot` (an axes-level function for histograms).\n",
      "  warnings.warn(msg, FutureWarning)\n"
     ]
    },
    {
     "data": {
      "image/png": "[encoded data removed]",
      "text/plain": [
       "<Figure size 864x360 with 1 Axes>"
      ]
     },
     "metadata": {
      "needs_background": "light"
     },
     "output_type": "display_data"
    }
   ],
   "source": [
    "plt.figure(figsize = (12, 5))\n",
    "\n",
    "#Plot distributions of predicted probabilities by actual values\n",
    "for group in pred_tvec_rf.groupby('true_values'):\n",
    "    sns.distplot(group[1], kde = False, bins = 20, label = f'Actual Outcome = {group[0]}')\n",
    "\n",
    "plt.xlabel('Predicted Probability that Outcome = 1')\n",
    "plt.legend();"
   ]
  },
  {
   "cell_type": "code",
   "execution_count": 80,
   "id": "5ba01611-2823-4533-9711-5ec7c79b3570",
   "metadata": {},
   "outputs": [
    {
     "name": "stderr",
     "output_type": "stream",
     "text": [
      "/Users/twangxh/opt/anaconda3/lib/python3.9/site-packages/sklearn/utils/deprecation.py:87: FutureWarning: Function plot_roc_curve is deprecated; Function :func:`plot_roc_curve` is deprecated in 1.0 and will be removed in 1.2. Use one of the class methods: :meth:`sklearn.metric.RocCurveDisplay.from_predictions` or :meth:`sklearn.metric.RocCurveDisplay.from_estimator`.\n",
      "  warnings.warn(msg, category=FutureWarning)\n"
     ]
    },
    {
     "data": {
      "image/png": "[encoded data removed]",
      "text/plain": [
       "<Figure size 432x288 with 1 Axes>"
      ]
     },
     "metadata": {
      "needs_background": "light"
     },
     "output_type": "display_data"
    }
   ],
   "source": [
    "plot_roc_curve(gs_tvec_rf, X_test, y_test)\n",
    "plt.plot([0, 1], [0, 1],\n",
    "         label='baseline', linestyle='--')\n",
    "plt.legend();"
   ]
  },
  {
   "cell_type": "code",
   "execution_count": 81,
   "id": "ada406ae-fd35-40ef-8a00-837495482b7c",
   "metadata": {},
   "outputs": [
    {
     "data": {
      "text/plain": [
       "0.9011105149342309"
      ]
     },
     "execution_count": 81,
     "metadata": {},
     "output_type": "execute_result"
    }
   ],
   "source": [
    "roc_auc_score(y_test, gs_tvec_rf.predict_proba(X_test)[:,1])"
   ]
  },
  {
   "cell_type": "markdown",
   "id": "00c50309-f530-47ef-9c47-e3afa6860f3d",
   "metadata": {},
   "source": [
    "### Conclusion (Summary Table)"
   ]
  },
  {
   "cell_type": "markdown",
   "id": "c6feaaff-f86b-4e56-bfdc-63d54e216249",
   "metadata": {},
   "source": [
    "| # | **Vectorizer**  | **Model**                 | **Best Score** | **Best Train** | **Test Score (Accuracy)** | **Test Score (Sensitivity)** | **Best Parameters**                                                                        |\n",
    "|---|-----------------|---------------------------|----------------|----------------|---------------------------|------------------------------|--------------------------------------------------------------------------------------------|\n",
    "| 1 | CountVectorizer | _Logistic Regression_     | 0.8432         | 0.9993         | 0.8004                    | 0.8032                       | cvec__max_df: 0.85 cvec__max_features: 5000 cvec__min_df: 3 cvec__ngram_range: (1, 2)      |\n",
    "| 2 | TfidfVectorizer | _Logistic Regression_     | 0.8674         | 0.9549         | 0.8347                    | 0.8193                       | tvec__max_df: 0.8 tvec__max_features: 2500 tvec__min_df: 3 tvec__ngram_range: (1, 2)       |\n",
    "| 3 | CountVectorizer | _Multinomial Naïve Bayes_ | 0.8560         | 0.9280         | **0.8488**                    | 0.8594                       | cvec__max_df: 0.85 cvec__max_features: 2500 cvec__min_df: 3 cvec__ngram_range: (1, 2)      |\n",
    "| 4 | TfidfVectorizer | _Multinomial Naïve Bayes_ | 0.8587         | 0.9408         | 0.8387                    | 0.8514                       | tvec__max_df: 0.8 tvec__max_features: 2500 tvec__min_df: 3 tvec__ngram_range: (1, 2)       |\n",
    "| 5 | CountVectorizer | _Random Forest_           | 0.8486         | 0.9785         | 0.8246                    | 0.8153                       | rf__max_depth: None rf__min_samples_leaf: 2 rf__min_samples_split: 5 rf__n_estimators: 150 |\n",
    "| 6 | TfidfVectorizer | _Random Forest_           | 0.8378         | 0.9549         | 0.8105                    | 0.8112                       | rf__max_depth: None rf__min_samples_leaf: 4 rf__min_samples_split: 2 rf__n_estimators: 200 |"
   ]
  },
  {
   "cell_type": "markdown",
   "id": "47fb326b-10fc-4965-95cb-8bcb603a6bf5",
   "metadata": {},
   "source": [
    "##### Model Selection: Multinomial Naïve Bayes with Count Vectorizer"
   ]
  },
  {
   "cell_type": "markdown",
   "id": "b3dc4945-4c21-4ece-8aca-f2939b91abaf",
   "metadata": {},
   "source": [
    "### Business Recommendations"
   ]
  },
  {
   "cell_type": "markdown",
   "id": "5d1452ef-702e-40c3-bcc9-b5e7792a5a4e",
   "metadata": {},
   "source": [
    "Our baseline accuracy score is 0.503 and every model have outperformed it. In order to increase our awareness for pilates, our marketing efforts must be able to differentiate between yoga and pilates. Hence, the focus is on getting as many correct predictions as possible. The Multinomial Naïve Bayes with CountVectorizer has the best predictive performance on the classification problem. Through the research we were able to address some other problems such as identifying the top common words and even performed sentiment analysis. The marketing team and the stakeholders would then be able to perform a more data-driven approach in handling the marketing campaigns for pilates."
   ]
  },
  {
   "cell_type": "markdown",
   "id": "91f14b2c-f161-41a7-ad05-1e935e5c04e5",
   "metadata": {},
   "source": [
    "### Further Analysis"
   ]
  },
  {
   "cell_type": "markdown",
   "id": "4556b949-4ded-4cbb-93fc-60419a705852",
   "metadata": {},
   "source": [
    "For future steps, we can analyse pilates with other exercises offered by ClassPass. As yoga and pilates are similar, the scores attained were all 0.8 (in terms of accuracy). Hence, should try to compare pilates with exercises that is not yoga to see whether will the models perform better.\n",
    "\n",
    "We can also understand more on the trend of pilates over the years more in-depth so as to understand what are the features of pilates that attracts people to start learning and practicing it. Once we have such informations, we would be able to further improve our awareness campaigns."
   ]
  },
  {
   "cell_type": "markdown",
   "id": "f3bf34ab-e9ff-4791-9d15-91e03701ffd3",
   "metadata": {
    "jp-MarkdownHeadingCollapsed": true,
    "tags": []
   },
   "source": [
    "References:\n",
    "\n",
    "https://www.bodyandsoul.com.au/fitness/training-tips/why-is-pilates-everywhere-now-and-what-did-covid-have-to-do-with-it/news-story/49ece150142fad14048bdb6608b44581\n",
    "\n",
    "Fitness and beauty trends 2021. (2021, July 28). ClassPass Blog. https://classpass.com/blog/2021-comeback-fitness-trends/\n",
    "\n",
    "The key differences between yoga and Pilates. (2021, March 16). Harper's BAZAAR. https://www.harpersbazaar.com/uk/beauty/fitness-wellbeing/a25626354/yoga-vs-pilates/"
   ]
  }
 ],
 "metadata": {
  "kernelspec": {
   "display_name": "Python 3 (ipykernel)",
   "language": "python",
   "name": "python3"
  },
  "language_info": {
   "codemirror_mode": {
    "name": "ipython",
    "version": 3
   },
   "file_extension": ".py",
   "mimetype": "text/x-python",
   "name": "python",
   "nbconvert_exporter": "python",
   "pygments_lexer": "ipython3",
   "version": "3.9.12"
  }
 },
 "nbformat": 4,
 "nbformat_minor": 5
}
